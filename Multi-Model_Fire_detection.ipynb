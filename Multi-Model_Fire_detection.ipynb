{
 "cells": [
  {
   "metadata": {},
   "cell_type": "markdown",
   "source": "# Multi-Model TestBook",
   "id": "4e7d006d2ae7da92"
  },
  {
   "metadata": {},
   "cell_type": "markdown",
   "source": "## Imports",
   "id": "8434c5bc71e52c34"
  },
  {
   "metadata": {
    "ExecuteTime": {
     "end_time": "2025-07-25T13:21:04.952684Z",
     "start_time": "2025-07-25T13:21:04.948626Z"
    }
   },
   "cell_type": "code",
   "source": [
    "# Imports\n",
    "import os\n",
    "# MUST be set before importing any PyTorch/CUDA modules\n",
    "os.environ['CUBLAS_WORKSPACE_CONFIG'] = ':4096:8'\n",
    "\n",
    "import torch\n",
    "# Configure PyTorch for full determinism\n",
    "torch.backends.cudnn.deterministic = True\n",
    "torch.backends.cudnn.benchmark = False\n",
    "torch.use_deterministic_algorithms(True)\n",
    "\n",
    "import torch.nn as nn\n",
    "import torch.optim as optim\n",
    "from torch.utils.data import DataLoader, Dataset\n",
    "import numpy as np\n",
    "import matplotlib.pyplot as plt\n",
    "from PIL import Image\n",
    "import pytorch_lightning as pl\n",
    "from pytorch_lightning.callbacks import ModelCheckpoint\n",
    "from sklearn.model_selection import StratifiedKFold, train_test_split\n",
    "from sklearn.metrics import confusion_matrix, classification_report, roc_curve, auc, precision_recall_curve\n",
    "import seaborn as sns\n",
    "import pandas as pd\n",
    "from torchvision import datasets, transforms, models\n",
    "from torchvision.models import vit_b_16, ViT_B_16_Weights\n",
    "from torchmetrics import Accuracy, F1Score, Precision, Recall\n",
    "from torchvision.transforms import v2\n",
    "from tqdm import tqdm\n",
    "import time\n",
    "import re"
   ],
   "id": "f392f325a38ed982",
   "outputs": [],
   "execution_count": 33
  },
  {
   "metadata": {},
   "cell_type": "markdown",
   "source": "## ViT Branch",
   "id": "cb3b586f6635df3e"
  },
  {
   "metadata": {},
   "cell_type": "markdown",
   "source": "### Dataset",
   "id": "9008faffcdf4e134"
  },
  {
   "metadata": {
    "ExecuteTime": {
     "end_time": "2025-07-25T13:21:05.014334Z",
     "start_time": "2025-07-25T13:21:04.968544Z"
    }
   },
   "cell_type": "code",
   "source": [
    "# Enhanced Data Preparation with Stratified Splitting\n",
    "class FireDataset(pl.LightningDataModule):\n",
    "    def __init__(self, data_dir=\"dataset/RGB\", batch_size=32, num_workers=4, train_augmented_multiplicity=4):\n",
    "        \"\"\"\n",
    "        Custom PyTorch Lightning DataModule for fire detection dataset.\n",
    "\n",
    "        Args:\n",
    "            data_dir: Root directory containing image dataset\n",
    "            batch_size: Number of samples per batch\n",
    "            num_workers: Parallel threads for data loading\n",
    "            train_augmented_multiplicity: Multiplier for training data augmentation (each sample seen N times with different transforms)\n",
    "        \"\"\"\n",
    "        super().__init__()\n",
    "        self.data_dir = data_dir\n",
    "        self.batch_size = batch_size\n",
    "        self.num_workers = num_workers\n",
    "        self.train_augmented_multiplicity = train_augmented_multiplicity\n",
    "        self.classes = None  # Will store class names after dataset setup\n",
    "\n",
    "        # Initialize transforms as None (defined later in setup to avoid early torchvision import)\n",
    "        self.transform = None  # Standard validation/test transform\n",
    "        self.augment = None   # Augmentation transform for training\n",
    "\n",
    "    def setup(self, stage=None):\n",
    "        \"\"\"\n",
    "        Prepares datasets and performs stratified splitting.\n",
    "        Called automatically by PyTorch Lightning on each GPU.\n",
    "        \"\"\"\n",
    "        # Standard transforms for validation/testing (no augmentation)\n",
    "        self.transform = transforms.Compose([\n",
    "            transforms.Resize(256),          # Resize shorter side to 256\n",
    "            transforms.CenterCrop(224),      # Center crop to 224x224\n",
    "            transforms.ToTensor(),           # Convert to tensor\n",
    "            transforms.Normalize(            # ImageNet normalization\n",
    "                mean=[0.485, 0.456, 0.406],\n",
    "                std=[0.229, 0.224, 0.225]\n",
    "            )\n",
    "        ])\n",
    "\n",
    "        # Augmentation transforms for training data\n",
    "        self.augment = transforms.Compose([\n",
    "            transforms.Resize(256),                 # Resize shorter side\n",
    "            transforms.RandomResizedCrop(224),       # Random crop with scaling\n",
    "            transforms.RandomHorizontalFlip(),       # Random left-right flip\n",
    "            transforms.RandomVerticalFlip(),         # Random top-bottom flip\n",
    "            transforms.RandomRotation(15),          # Random rotation ±15 degrees\n",
    "            transforms.ColorJitter(                 # Random color adjustments\n",
    "                brightness=0.2,\n",
    "                contrast=0.2,\n",
    "                saturation=0.2\n",
    "            ),\n",
    "            transforms.RandomAffine(                # Random translation\n",
    "                degrees=0,\n",
    "                translate=(0.1, 0.1)\n",
    "            ),\n",
    "            transforms.ToTensor(),                  # Convert to tensor\n",
    "            transforms.Normalize(                   # ImageNet normalization\n",
    "                mean=[0.485, 0.456, 0.406],\n",
    "                std=[0.229, 0.224, 0.225]\n",
    "            )\n",
    "        ])\n",
    "\n",
    "        # Load base dataset without transforms to get original structure\n",
    "        base_dataset = datasets.ImageFolder(root=self.data_dir, transform=None)\n",
    "        self.classes = base_dataset.classes  # Store class names\n",
    "        targets = [s[1] for s in base_dataset.samples]  # Extract class labels\n",
    "\n",
    "        # Create stratified train/val/test splits (80/10/10)\n",
    "        skf = StratifiedKFold(n_splits=5, shuffle=True, random_state=42)\n",
    "        # Generate indices: 80% train, 20% temporary test\n",
    "        train_idx, test_idx = next(skf.split(np.zeros(len(targets)), targets))\n",
    "        # Split temporary test into validation (10%) and final test (10%)\n",
    "        val_idx, test_idx = train_idx[:int(0.8*len(train_idx))], train_idx[int(0.8*len(train_idx)):]\n",
    "\n",
    "        # Create specialized datasets with transforms\n",
    "        # Training set with augmentations and multiplicity\n",
    "        self.train_dataset = self._create_dataset_with_transform(\n",
    "            base_dataset,\n",
    "            train_idx,\n",
    "            self.augment,\n",
    "            num_augmented=self.train_augmented_multiplicity\n",
    "        )\n",
    "        # Validation set with standard transform\n",
    "        self.val_dataset = self._create_dataset_with_transform(\n",
    "            base_dataset,\n",
    "            val_idx,\n",
    "            self.transform\n",
    "        )\n",
    "        # Test set with standard transform\n",
    "        self.test_dataset = self._create_dataset_with_transform(\n",
    "            base_dataset,\n",
    "            test_idx,\n",
    "            self.transform\n",
    "        )\n",
    "\n",
    "        # Store original targets for class balancing calculations\n",
    "        self.base_targets = targets\n",
    "\n",
    "    def _create_dataset_with_transform(self, base_dataset, indices, transform, num_augmented=1):\n",
    "        \"\"\"\n",
    "        Creates custom dataset with transformation pipeline.\n",
    "\n",
    "        Args:\n",
    "            base_dataset: Original ImageFolder dataset\n",
    "            indices: Selected sample indices\n",
    "            transform: Transformation pipeline to apply\n",
    "            num_augmented: Augmentation multiplier (N variations per sample)\n",
    "\n",
    "        Returns:\n",
    "            Custom dataset that applies transforms and augmentation multiplicity\n",
    "        \"\"\"\n",
    "        class DatasetWithTransform(torch.utils.data.Dataset):\n",
    "            def __init__(self, base, indices, transform, num_augmented):\n",
    "                self.base = base\n",
    "                self.indices = indices        # Selected subset indices\n",
    "                self.transform = transform    # Transformation pipeline\n",
    "                self.num_augmented = num_augmented  # Augmentation multiplier\n",
    "\n",
    "            def __len__(self):\n",
    "                # Total size = original samples × augmentation multiplier\n",
    "                return len(self.indices) * self.num_augmented\n",
    "\n",
    "            def __getitem__(self, idx):\n",
    "                # Calculate original dataset index\n",
    "                base_idx = self.indices[idx // self.num_augmented]\n",
    "                # Retrieve original image and label\n",
    "                img, label = self.base[base_idx]\n",
    "\n",
    "                # Apply transformation (different random augmentations for each call)\n",
    "                if self.transform:\n",
    "                    img = self.transform(img)\n",
    "                return img, label\n",
    "\n",
    "        return DatasetWithTransform(base_dataset, indices, transform, num_augmented)\n",
    "\n",
    "    def train_dataloader(self):\n",
    "        \"\"\"Returns training dataloader with shuffling\"\"\"\n",
    "        return DataLoader(\n",
    "            self.train_dataset,\n",
    "            batch_size=self.batch_size,\n",
    "            shuffle=True,            # Important for training\n",
    "            num_workers=self.num_workers,\n",
    "            pin_memory=True          # Faster data transfer to GPU\n",
    "        )\n",
    "\n",
    "    def val_dataloader(self):\n",
    "        \"\"\"Returns validation dataloader without shuffling\"\"\"\n",
    "        return DataLoader(\n",
    "            self.val_dataset,\n",
    "            batch_size=self.batch_size,\n",
    "            shuffle=False,           # No need to shuffle validation\n",
    "            num_workers=self.num_workers,\n",
    "            pin_memory=True\n",
    "        )\n",
    "\n",
    "    def test_dataloader(self):\n",
    "        \"\"\"Returns test dataloader without shuffling\"\"\"\n",
    "        return DataLoader(\n",
    "            self.test_dataset,\n",
    "            batch_size=self.batch_size,\n",
    "            shuffle=False,          # Maintain original order for evaluation\n",
    "            num_workers=self.num_workers,\n",
    "            pin_memory=True\n",
    "        )"
   ],
   "id": "a79ced9e145f3ab",
   "outputs": [],
   "execution_count": 34
  },
  {
   "metadata": {},
   "cell_type": "markdown",
   "source": "### ViT Model",
   "id": "621cdc74891f368f"
  },
  {
   "metadata": {
    "ExecuteTime": {
     "end_time": "2025-07-25T13:21:05.070066Z",
     "start_time": "2025-07-25T13:21:05.032747Z"
    }
   },
   "cell_type": "code",
   "source": [
    "# Vision Transformer (ViT) Feature Extractor with Classification Head\n",
    "class FireFeatureExtractorViT(pl.LightningModule):\n",
    "    def __init__(self, config=None):\n",
    "        \"\"\"\n",
    "        Custom Vision Transformer model for fire detection with feature extraction capability.\n",
    "\n",
    "        Args:\n",
    "            config: Configuration dictionary with hyperparameters. Defaults to empty dict.\n",
    "        \"\"\"\n",
    "        super().__init__()\n",
    "        self.config = config or {}\n",
    "        self.save_hyperparameters(config)  # Save config for checkpointing\n",
    "\n",
    "        # Initialize with pretrained weights if specified, otherwise random initialization\n",
    "        weights = ViT_B_16_Weights.IMAGENET1K_V1 if self.config.get(\"pretrained\", True) else None\n",
    "        self.vit = vit_b_16(weights=weights)\n",
    "\n",
    "        # Freeze backbone parameters if requested (transfer learning)\n",
    "        if self.config.get(\"freeze_backbone\", True):\n",
    "            for param in self.vit.parameters():\n",
    "                param.requires_grad = False\n",
    "\n",
    "        # Replace classification head with identity to output raw features (768-dim)\n",
    "        self.vit.heads = nn.Identity()\n",
    "\n",
    "        # Custom classification head for binary fire detection\n",
    "        self.classifier = nn.Sequential(\n",
    "            nn.Linear(768, 256),  # Feature compression layer\n",
    "            nn.ReLU(),            # Activation for non-linearity\n",
    "            nn.BatchNorm1d(256),  # Normalization for stability\n",
    "            nn.Dropout(self.config.get(\"dropout_rate\", 0.5)),  # Regularization\n",
    "            nn.Linear(256, 1)     # Binary classification output (fire/no-fire)\n",
    "        )\n",
    "\n",
    "        # Loss function with class weighting to handle imbalanced datasets\n",
    "        self.criterion = nn.BCEWithLogitsLoss(\n",
    "            pos_weight=torch.tensor(self.config.get(\"pos_weight\", 1.0))\n",
    "        )\n",
    "\n",
    "        # Accuracy metrics for different phases\n",
    "        self.train_acc = Accuracy(task='binary')\n",
    "        self.val_acc = Accuracy(task='binary')\n",
    "        self.test_acc = Accuracy(task='binary')\n",
    "\n",
    "    def forward(self, x):\n",
    "        \"\"\"Feature extraction pass - returns 768-dimensional embeddings\"\"\"\n",
    "        return self.vit(x)\n",
    "\n",
    "    def classify(self, x):\n",
    "        \"\"\"Full classification pass (features + classifier head)\"\"\"\n",
    "        features = self.vit(x)  # Extract visual features\n",
    "        return self.classifier(features).squeeze(1)  # Remove extra dimension\n",
    "\n",
    "    def configure_optimizers(self):\n",
    "        \"\"\"Configure optimizer and learning rate scheduler\"\"\"\n",
    "        optimizer = optim.AdamW(\n",
    "            self.parameters(),\n",
    "            lr=self.config.get(\"lr\", 1e-4),                # Default learning rate\n",
    "            weight_decay=self.config.get(\"weight_decay\", 1e-4)  # L2 regularization\n",
    "        )\n",
    "\n",
    "        # Learning rate scheduler that reduces when validation accuracy plateaus\n",
    "        scheduler = optim.lr_scheduler.ReduceLROnPlateau(\n",
    "            optimizer,\n",
    "            mode='max',     # Monitor validation accuracy (maximize)\n",
    "            factor=0.5,     # Reduce LR by half when triggered\n",
    "            patience=3,     # Wait 3 epochs without improvement\n",
    "        )\n",
    "\n",
    "        return {\n",
    "            \"optimizer\": optimizer,\n",
    "            \"lr_scheduler\": {\n",
    "                \"scheduler\": scheduler,\n",
    "                \"monitor\": \"val_acc\",  # Watch validation accuracy\n",
    "                \"frequency\": 1         # Check every epoch\n",
    "            }\n",
    "        }\n",
    "\n",
    "    def training_step(self, batch, batch_idx):\n",
    "        \"\"\"Single training step with loss calculation and metrics logging\"\"\"\n",
    "        images, labels = batch\n",
    "        labels = labels.float()  # Convert to float for BCE loss\n",
    "\n",
    "        # Forward pass through classifier\n",
    "        outputs = self.classify(images)\n",
    "        loss = self.criterion(outputs, labels)\n",
    "\n",
    "        # Convert logits to binary predictions (threshold=0.5)\n",
    "        preds = torch.sigmoid(outputs) > 0.5\n",
    "        self.train_acc(preds, labels)  # Update accuracy metric\n",
    "\n",
    "        # Log training metrics (step-level loss, epoch-level accuracy)\n",
    "        self.log(\"train_loss\", loss, on_step=True, on_epoch=True, prog_bar=True)\n",
    "        self.log(\"train_acc\", self.train_acc, on_step=False, on_epoch=True, prog_bar=True)\n",
    "\n",
    "        return loss\n",
    "\n",
    "    def validation_step(self, batch, batch_idx):\n",
    "        \"\"\"Single validation step with metrics calculation\"\"\"\n",
    "        images, labels = batch\n",
    "        labels = labels.float()\n",
    "\n",
    "        # Forward pass\n",
    "        outputs = self.classify(images)\n",
    "        loss = self.criterion(outputs, labels)\n",
    "\n",
    "        # Calculate accuracy\n",
    "        preds = torch.sigmoid(outputs) > 0.5\n",
    "        self.val_acc(preds, labels)\n",
    "\n",
    "        # Log validation metrics (epoch-level only)\n",
    "        self.log(\"val_loss\", loss, on_epoch=True, prog_bar=True)\n",
    "        self.log(\"val_acc\", self.val_acc, on_epoch=True, prog_bar=True)\n",
    "\n",
    "        return loss\n",
    "\n",
    "    def test_step(self, batch, batch_idx):\n",
    "        \"\"\"Single test step for final evaluation\"\"\"\n",
    "        images, labels = batch\n",
    "        labels = labels.float()\n",
    "\n",
    "        # Forward pass\n",
    "        outputs = self.classify(images)\n",
    "        loss = self.criterion(outputs, labels)\n",
    "\n",
    "        # Calculate accuracy\n",
    "        preds = torch.sigmoid(outputs) > 0.5\n",
    "        self.test_acc(preds, labels)\n",
    "\n",
    "        # Log test metrics\n",
    "        self.log(\"test_loss\", loss, on_epoch=True)\n",
    "        self.log(\"test_acc\", self.test_acc, on_epoch=True)\n",
    "\n",
    "        return loss"
   ],
   "id": "2e23c906e2078afc",
   "outputs": [],
   "execution_count": 35
  },
  {
   "metadata": {},
   "cell_type": "markdown",
   "source": "### Training",
   "id": "a71bab9e32dc55f2"
  },
  {
   "metadata": {
    "ExecuteTime": {
     "end_time": "2025-07-25T13:21:05.126784Z",
     "start_time": "2025-07-25T13:21:05.085666Z"
    }
   },
   "cell_type": "code",
   "source": [
    "# Training Function\n",
    "def train_feature_extractor(num_epochs):\n",
    "    \"\"\"\n",
    "    Trains the fire feature extractor model end-to-end.\n",
    "\n",
    "    Args:\n",
    "        num_epochs: Number of training epochs\n",
    "\n",
    "    Returns:\n",
    "        model: Trained feature extractor model\n",
    "        trainer: PyTorch Lightning trainer object\n",
    "        data: Data module used for training\n",
    "    \"\"\"\n",
    "    # Initialize data module with default batch size\n",
    "    data = FireDataset(batch_size=32)\n",
    "    data.setup()  # Prepare datasets and transformations\n",
    "\n",
    "    # Calculate class imbalance weight for positive samples\n",
    "    # Example: [non-fire_count, fire_count] - replace with actual counts\n",
    "    class_counts = [1000, 200]  # Example: [negative_class, positive_class]\n",
    "    pos_weight = class_counts[0] / class_counts[1]  # weight = negative_count / positive_count\n",
    "\n",
    "    # Model configuration parameters\n",
    "    config = {\n",
    "        \"lr\": 1e-4,               # Learning rate\n",
    "        \"weight_decay\": 1e-4,      # L2 regularization strength\n",
    "        \"freeze_backbone\": True,   # Freeze ViT weights during training\n",
    "        \"pretrained\": True,        # Use pretrained ViT weights\n",
    "        \"dropout_rate\": 0.5,       # Dropout probability in classifier\n",
    "        \"pos_weight\": pos_weight   # Class imbalance compensation\n",
    "    }\n",
    "\n",
    "    # Initialize model with configuration\n",
    "    model = FireFeatureExtractorViT(config)\n",
    "\n",
    "    # Model checkpoint callback - saves best model based on validation accuracy\n",
    "    checkpoint = ModelCheckpoint(\n",
    "        monitor=\"val_acc\",         # Metric to monitor\n",
    "        mode=\"max\",                # Maximize validation accuracy\n",
    "        save_top_k=1,              # Save only the best model\n",
    "        filename=\"best_feature_extractor\"  # Checkpoint filename\n",
    "    )\n",
    "\n",
    "    # Create PyTorch Lightning trainer\n",
    "    trainer = pl.Trainer(\n",
    "        max_epochs=num_epochs,    # Training duration\n",
    "        callbacks=[checkpoint],    # Attach checkpoint callback\n",
    "        accelerator=\"auto\",        # Automatically select hardware (GPU/CPU)\n",
    "        devices=1,                # Use single device\n",
    "        log_every_n_steps=10,     # Log metrics every 10 batches\n",
    "    )\n",
    "\n",
    "    # Train the model\n",
    "    trainer.fit(model, data)\n",
    "\n",
    "    # Evaluate on test set after training\n",
    "    test_result = trainer.test(model, dataloaders=data.test_dataloader())\n",
    "    print(f\"Test Accuracy: {test_result[0]['test_acc']:.4f}\")\n",
    "\n",
    "    return model, trainer, data\n",
    "\n",
    "# Save Feature Extractor\n",
    "def save_feature_extractor(trainer, path=\"feature_extractor.pth\"):\n",
    "    \"\"\"\n",
    "    Saves the trained feature extractor as a Lightning checkpoint.\n",
    "\n",
    "    Preserves model weights, hyperparameters, and optimizer state.\n",
    "\n",
    "    Args:\n",
    "        trainer: Trainer instance containing the model\n",
    "        path: Output file path for checkpoint\n",
    "    \"\"\"\n",
    "    # Save entire model state including metadata and optimizer\n",
    "    trainer.save_checkpoint(path)\n",
    "    print(f\"Full Lightning checkpoint saved to {path}\")\n",
    "\n",
    "# Feature Extraction Function\n",
    "def extract_features(model, dataloader):\n",
    "    \"\"\"\n",
    "    Extracts feature vectors from images using the trained model.\n",
    "\n",
    "    Args:\n",
    "        model: Trained feature extractor model\n",
    "        dataloader: DataLoader providing image batches\n",
    "\n",
    "    Returns:\n",
    "        features: 2D array of extracted features [n_samples, 768]\n",
    "        labels: 1D array of corresponding labels\n",
    "    \"\"\"\n",
    "    model.eval()  # Set model to evaluation mode\n",
    "    features = []  # Storage for feature vectors\n",
    "    labels = []    # Storage for corresponding labels\n",
    "\n",
    "    with torch.no_grad():  # Disable gradient calculation\n",
    "        for images, batch_labels in dataloader:\n",
    "            # Move images to same device as model (GPU/CPU)\n",
    "            images = images.to(model.device)\n",
    "\n",
    "            # Extract features (768-dimensional vectors)\n",
    "            batch_features = model(images)\n",
    "\n",
    "            # Store results (move to CPU for numpy conversion)\n",
    "            features.append(batch_features.cpu().numpy())\n",
    "            labels.append(batch_labels.numpy())\n",
    "\n",
    "    # Combine all batches into single arrays\n",
    "    return np.concatenate(features), np.concatenate(labels)"
   ],
   "id": "36460fdbf73c95d9",
   "outputs": [],
   "execution_count": 36
  },
  {
   "metadata": {
    "ExecuteTime": {
     "end_time": "2025-07-25T15:23:54.471546Z",
     "start_time": "2025-07-25T13:21:05.143585Z"
    }
   },
   "cell_type": "code",
   "source": [
    "# --- TRAINING PIPELINE EXECUTION ---\n",
    "# Clear GPU memory cache to avoid out-of-memory errors\n",
    "torch.cuda.empty_cache()\n",
    "\n",
    "# Start performance timer\n",
    "start = time.time()\n",
    "\n",
    "# Step 1: Train the feature extractor model\n",
    "print(\"Training feature extractor...\")\n",
    "trained_model, trainer, data = train_feature_extractor(num_epochs=50)\n",
    "\n",
    "# Step 2: Save the trained model for future use\n",
    "save_feature_extractor(trainer, \"Saved_Features/ViT_fire_feature_extractor.pth\")\n",
    "\n",
    "# Step 3: Load the feature extractor (without classifier head)\n",
    "print(\"\\nLoading feature extractor for inference...\")\n",
    "# Initialize model with default configuration\n",
    "feature_extractor = FireFeatureExtractorViT()\n",
    "# Load weights while ignoring classifier parameters (strict=False)\n",
    "feature_extractor.load_state_dict(\n",
    "    torch.load(\"Saved_Features/ViT_fire_feature_extractor.pth\"),\n",
    "    strict=False  # Required since we're discarding the classifier\n",
    ")\n",
    "feature_extractor.eval()  # Set to evaluation mode\n",
    "\n",
    "# Step 4: Extract feature vectors from training data\n",
    "print(\"\\nExtracting features from training dataset...\")\n",
    "train_features, train_labels = extract_features(\n",
    "    feature_extractor,\n",
    "    data.train_dataloader()\n",
    ")\n",
    "print(f\"Extracted {len(train_features)} feature vectors (768-dim each)\")\n",
    "\n",
    "# Step 5: Demonstrate feature usage for downstream models\n",
    "print(\"\\nFeatures ready for transfer learning or multi-model systems:\")\n",
    "print(f\"Feature vector shape: {train_features[0].shape}\")  # Should be (768,)\n",
    "print(f\"Sample feature (first 10 values): {train_features[0][:10]}...\")\n",
    "\n",
    "# Calculate and display execution time\n",
    "time_taken = time.time() - start\n",
    "print(f\"\\nTotal Execution Time: {time_taken:.2f} seconds ({time_taken / 60:.2f} minutes)\")"
   ],
   "id": "ffa30a937d473a30",
   "outputs": [
    {
     "name": "stdout",
     "output_type": "stream",
     "text": [
      "Training feature extractor...\n"
     ]
    },
    {
     "name": "stderr",
     "output_type": "stream",
     "text": [
      "GPU available: True (cuda), used: True\n",
      "TPU available: False, using: 0 TPU cores\n",
      "HPU available: False, using: 0 HPUs\n",
      "LOCAL_RANK: 0 - CUDA_VISIBLE_DEVICES: [0]\n",
      "\n",
      "  | Name       | Type              | Params | Mode \n",
      "---------------------------------------------------------\n",
      "0 | vit        | VisionTransformer | 85.8 M | train\n",
      "1 | classifier | Sequential        | 197 K  | train\n",
      "2 | criterion  | BCEWithLogitsLoss | 0      | train\n",
      "3 | train_acc  | BinaryAccuracy    | 0      | train\n",
      "4 | val_acc    | BinaryAccuracy    | 0      | train\n",
      "5 | test_acc   | BinaryAccuracy    | 0      | train\n",
      "---------------------------------------------------------\n",
      "197 K     Trainable params\n",
      "85.8 M    Non-trainable params\n",
      "86.0 M    Total params\n",
      "343.985   Total estimated model params size (MB)\n",
      "161       Modules in train mode\n",
      "0         Modules in eval mode\n"
     ]
    },
    {
     "data": {
      "text/plain": [
       "Sanity Checking: |          | 0/? [00:00<?, ?it/s]"
      ],
      "application/vnd.jupyter.widget-view+json": {
       "version_major": 2,
       "version_minor": 0,
       "model_id": "c6fb333b3cdc440884f093820c70c06f"
      }
     },
     "metadata": {},
     "output_type": "display_data"
    },
    {
     "data": {
      "text/plain": [
       "Training: |          | 0/? [00:00<?, ?it/s]"
      ],
      "application/vnd.jupyter.widget-view+json": {
       "version_major": 2,
       "version_minor": 0,
       "model_id": "2cc1120ffbcf4703a461b996e3152d3a"
      }
     },
     "metadata": {},
     "output_type": "display_data"
    },
    {
     "data": {
      "text/plain": [
       "Validation: |          | 0/? [00:00<?, ?it/s]"
      ],
      "application/vnd.jupyter.widget-view+json": {
       "version_major": 2,
       "version_minor": 0,
       "model_id": "30f8c9c40ee14730a5e342b696d85533"
      }
     },
     "metadata": {},
     "output_type": "display_data"
    },
    {
     "data": {
      "text/plain": [
       "Validation: |          | 0/? [00:00<?, ?it/s]"
      ],
      "application/vnd.jupyter.widget-view+json": {
       "version_major": 2,
       "version_minor": 0,
       "model_id": "b71970552db54397bed625ec6e46ffc8"
      }
     },
     "metadata": {},
     "output_type": "display_data"
    },
    {
     "data": {
      "text/plain": [
       "Validation: |          | 0/? [00:00<?, ?it/s]"
      ],
      "application/vnd.jupyter.widget-view+json": {
       "version_major": 2,
       "version_minor": 0,
       "model_id": "5552a00b3cf44cb6a9ec718e2ceec410"
      }
     },
     "metadata": {},
     "output_type": "display_data"
    },
    {
     "data": {
      "text/plain": [
       "Validation: |          | 0/? [00:00<?, ?it/s]"
      ],
      "application/vnd.jupyter.widget-view+json": {
       "version_major": 2,
       "version_minor": 0,
       "model_id": "290d5c370e024a3387e4dcba2dc63189"
      }
     },
     "metadata": {},
     "output_type": "display_data"
    },
    {
     "data": {
      "text/plain": [
       "Validation: |          | 0/? [00:00<?, ?it/s]"
      ],
      "application/vnd.jupyter.widget-view+json": {
       "version_major": 2,
       "version_minor": 0,
       "model_id": "0b75a1a6729e48259ebdb05fd9dd354b"
      }
     },
     "metadata": {},
     "output_type": "display_data"
    },
    {
     "data": {
      "text/plain": [
       "Validation: |          | 0/? [00:00<?, ?it/s]"
      ],
      "application/vnd.jupyter.widget-view+json": {
       "version_major": 2,
       "version_minor": 0,
       "model_id": "1564989e7d9b4a4185a6f4910d81fd4b"
      }
     },
     "metadata": {},
     "output_type": "display_data"
    },
    {
     "data": {
      "text/plain": [
       "Validation: |          | 0/? [00:00<?, ?it/s]"
      ],
      "application/vnd.jupyter.widget-view+json": {
       "version_major": 2,
       "version_minor": 0,
       "model_id": "d94649a2c42f47109b0320f819782e05"
      }
     },
     "metadata": {},
     "output_type": "display_data"
    },
    {
     "data": {
      "text/plain": [
       "Validation: |          | 0/? [00:00<?, ?it/s]"
      ],
      "application/vnd.jupyter.widget-view+json": {
       "version_major": 2,
       "version_minor": 0,
       "model_id": "55fdebe7eb664e7eb4b661d101e6b64a"
      }
     },
     "metadata": {},
     "output_type": "display_data"
    },
    {
     "data": {
      "text/plain": [
       "Validation: |          | 0/? [00:00<?, ?it/s]"
      ],
      "application/vnd.jupyter.widget-view+json": {
       "version_major": 2,
       "version_minor": 0,
       "model_id": "657a79a3445c4a09959848e8296b8ef9"
      }
     },
     "metadata": {},
     "output_type": "display_data"
    },
    {
     "data": {
      "text/plain": [
       "Validation: |          | 0/? [00:00<?, ?it/s]"
      ],
      "application/vnd.jupyter.widget-view+json": {
       "version_major": 2,
       "version_minor": 0,
       "model_id": "49f94f0897ae4125b5d01d110ac21799"
      }
     },
     "metadata": {},
     "output_type": "display_data"
    },
    {
     "data": {
      "text/plain": [
       "Validation: |          | 0/? [00:00<?, ?it/s]"
      ],
      "application/vnd.jupyter.widget-view+json": {
       "version_major": 2,
       "version_minor": 0,
       "model_id": "5ca4223e90e2491b8910895ad2afeb1d"
      }
     },
     "metadata": {},
     "output_type": "display_data"
    },
    {
     "data": {
      "text/plain": [
       "Validation: |          | 0/? [00:00<?, ?it/s]"
      ],
      "application/vnd.jupyter.widget-view+json": {
       "version_major": 2,
       "version_minor": 0,
       "model_id": "4b8a96d551c64661bbe6ea3fd7ce76f1"
      }
     },
     "metadata": {},
     "output_type": "display_data"
    },
    {
     "data": {
      "text/plain": [
       "Validation: |          | 0/? [00:00<?, ?it/s]"
      ],
      "application/vnd.jupyter.widget-view+json": {
       "version_major": 2,
       "version_minor": 0,
       "model_id": "f8005245f911475c994deed4361bfb9f"
      }
     },
     "metadata": {},
     "output_type": "display_data"
    },
    {
     "data": {
      "text/plain": [
       "Validation: |          | 0/? [00:00<?, ?it/s]"
      ],
      "application/vnd.jupyter.widget-view+json": {
       "version_major": 2,
       "version_minor": 0,
       "model_id": "b6e40d8794014ee1a155875619705ee8"
      }
     },
     "metadata": {},
     "output_type": "display_data"
    },
    {
     "data": {
      "text/plain": [
       "Validation: |          | 0/? [00:00<?, ?it/s]"
      ],
      "application/vnd.jupyter.widget-view+json": {
       "version_major": 2,
       "version_minor": 0,
       "model_id": "8078dc4aefa246f8a7fead65ad6dc9a3"
      }
     },
     "metadata": {},
     "output_type": "display_data"
    },
    {
     "data": {
      "text/plain": [
       "Validation: |          | 0/? [00:00<?, ?it/s]"
      ],
      "application/vnd.jupyter.widget-view+json": {
       "version_major": 2,
       "version_minor": 0,
       "model_id": "2ba90d3cc2dc4d45aa1d9ff8b1a3616b"
      }
     },
     "metadata": {},
     "output_type": "display_data"
    },
    {
     "data": {
      "text/plain": [
       "Validation: |          | 0/? [00:00<?, ?it/s]"
      ],
      "application/vnd.jupyter.widget-view+json": {
       "version_major": 2,
       "version_minor": 0,
       "model_id": "0efd16ec2f744bd098a375c2cb0186ff"
      }
     },
     "metadata": {},
     "output_type": "display_data"
    },
    {
     "data": {
      "text/plain": [
       "Validation: |          | 0/? [00:00<?, ?it/s]"
      ],
      "application/vnd.jupyter.widget-view+json": {
       "version_major": 2,
       "version_minor": 0,
       "model_id": "abf8b07f3b1e43189279f74edd57bbb4"
      }
     },
     "metadata": {},
     "output_type": "display_data"
    },
    {
     "data": {
      "text/plain": [
       "Validation: |          | 0/? [00:00<?, ?it/s]"
      ],
      "application/vnd.jupyter.widget-view+json": {
       "version_major": 2,
       "version_minor": 0,
       "model_id": "24b8182515f3457d93c7a8da7b3d6482"
      }
     },
     "metadata": {},
     "output_type": "display_data"
    },
    {
     "data": {
      "text/plain": [
       "Validation: |          | 0/? [00:00<?, ?it/s]"
      ],
      "application/vnd.jupyter.widget-view+json": {
       "version_major": 2,
       "version_minor": 0,
       "model_id": "cbf3b8cf088046c6af92bd371fa04b5f"
      }
     },
     "metadata": {},
     "output_type": "display_data"
    },
    {
     "data": {
      "text/plain": [
       "Validation: |          | 0/? [00:00<?, ?it/s]"
      ],
      "application/vnd.jupyter.widget-view+json": {
       "version_major": 2,
       "version_minor": 0,
       "model_id": "387b6e911e7440cfbcfc9da5e89e3a58"
      }
     },
     "metadata": {},
     "output_type": "display_data"
    },
    {
     "data": {
      "text/plain": [
       "Validation: |          | 0/? [00:00<?, ?it/s]"
      ],
      "application/vnd.jupyter.widget-view+json": {
       "version_major": 2,
       "version_minor": 0,
       "model_id": "2b6ffef3eef34e019e1d157331710cf3"
      }
     },
     "metadata": {},
     "output_type": "display_data"
    },
    {
     "data": {
      "text/plain": [
       "Validation: |          | 0/? [00:00<?, ?it/s]"
      ],
      "application/vnd.jupyter.widget-view+json": {
       "version_major": 2,
       "version_minor": 0,
       "model_id": "6e803d7d494043fab54067959e6cef5d"
      }
     },
     "metadata": {},
     "output_type": "display_data"
    },
    {
     "data": {
      "text/plain": [
       "Validation: |          | 0/? [00:00<?, ?it/s]"
      ],
      "application/vnd.jupyter.widget-view+json": {
       "version_major": 2,
       "version_minor": 0,
       "model_id": "79eb0e4c8f5e4f9398158073c1dbbe00"
      }
     },
     "metadata": {},
     "output_type": "display_data"
    },
    {
     "data": {
      "text/plain": [
       "Validation: |          | 0/? [00:00<?, ?it/s]"
      ],
      "application/vnd.jupyter.widget-view+json": {
       "version_major": 2,
       "version_minor": 0,
       "model_id": "b5668b1ecbf542deace8628120004c01"
      }
     },
     "metadata": {},
     "output_type": "display_data"
    },
    {
     "data": {
      "text/plain": [
       "Validation: |          | 0/? [00:00<?, ?it/s]"
      ],
      "application/vnd.jupyter.widget-view+json": {
       "version_major": 2,
       "version_minor": 0,
       "model_id": "0bbc5bc71fae4678bd6c41aadf53c381"
      }
     },
     "metadata": {},
     "output_type": "display_data"
    },
    {
     "data": {
      "text/plain": [
       "Validation: |          | 0/? [00:00<?, ?it/s]"
      ],
      "application/vnd.jupyter.widget-view+json": {
       "version_major": 2,
       "version_minor": 0,
       "model_id": "e7545fa82c4f4654bdc07d6b16b06046"
      }
     },
     "metadata": {},
     "output_type": "display_data"
    },
    {
     "data": {
      "text/plain": [
       "Validation: |          | 0/? [00:00<?, ?it/s]"
      ],
      "application/vnd.jupyter.widget-view+json": {
       "version_major": 2,
       "version_minor": 0,
       "model_id": "be0d3a0775dc4a64a20180fe00ad6061"
      }
     },
     "metadata": {},
     "output_type": "display_data"
    },
    {
     "data": {
      "text/plain": [
       "Validation: |          | 0/? [00:00<?, ?it/s]"
      ],
      "application/vnd.jupyter.widget-view+json": {
       "version_major": 2,
       "version_minor": 0,
       "model_id": "a44bb9d8394140cc889496c2efc5b387"
      }
     },
     "metadata": {},
     "output_type": "display_data"
    },
    {
     "data": {
      "text/plain": [
       "Validation: |          | 0/? [00:00<?, ?it/s]"
      ],
      "application/vnd.jupyter.widget-view+json": {
       "version_major": 2,
       "version_minor": 0,
       "model_id": "8cfc9682714b4e5481d6ec28464b4ac5"
      }
     },
     "metadata": {},
     "output_type": "display_data"
    },
    {
     "data": {
      "text/plain": [
       "Validation: |          | 0/? [00:00<?, ?it/s]"
      ],
      "application/vnd.jupyter.widget-view+json": {
       "version_major": 2,
       "version_minor": 0,
       "model_id": "3dde4350f67c44ee85464b0b26c721b2"
      }
     },
     "metadata": {},
     "output_type": "display_data"
    },
    {
     "data": {
      "text/plain": [
       "Validation: |          | 0/? [00:00<?, ?it/s]"
      ],
      "application/vnd.jupyter.widget-view+json": {
       "version_major": 2,
       "version_minor": 0,
       "model_id": "8498f2afa418423cbface29e7c350c67"
      }
     },
     "metadata": {},
     "output_type": "display_data"
    },
    {
     "data": {
      "text/plain": [
       "Validation: |          | 0/? [00:00<?, ?it/s]"
      ],
      "application/vnd.jupyter.widget-view+json": {
       "version_major": 2,
       "version_minor": 0,
       "model_id": "bbf37012577c4c178ee86fafd97d6c04"
      }
     },
     "metadata": {},
     "output_type": "display_data"
    },
    {
     "data": {
      "text/plain": [
       "Validation: |          | 0/? [00:00<?, ?it/s]"
      ],
      "application/vnd.jupyter.widget-view+json": {
       "version_major": 2,
       "version_minor": 0,
       "model_id": "2a185010985848c4be5cb2f148d0a7d8"
      }
     },
     "metadata": {},
     "output_type": "display_data"
    },
    {
     "data": {
      "text/plain": [
       "Validation: |          | 0/? [00:00<?, ?it/s]"
      ],
      "application/vnd.jupyter.widget-view+json": {
       "version_major": 2,
       "version_minor": 0,
       "model_id": "eeadc715821845fc97f98566a65ccc44"
      }
     },
     "metadata": {},
     "output_type": "display_data"
    },
    {
     "data": {
      "text/plain": [
       "Validation: |          | 0/? [00:00<?, ?it/s]"
      ],
      "application/vnd.jupyter.widget-view+json": {
       "version_major": 2,
       "version_minor": 0,
       "model_id": "ace0d9c7256c4f8d99d85ffa89ded380"
      }
     },
     "metadata": {},
     "output_type": "display_data"
    },
    {
     "data": {
      "text/plain": [
       "Validation: |          | 0/? [00:00<?, ?it/s]"
      ],
      "application/vnd.jupyter.widget-view+json": {
       "version_major": 2,
       "version_minor": 0,
       "model_id": "358d6ee5f4b14157bc5c947b7cdc84a9"
      }
     },
     "metadata": {},
     "output_type": "display_data"
    },
    {
     "data": {
      "text/plain": [
       "Validation: |          | 0/? [00:00<?, ?it/s]"
      ],
      "application/vnd.jupyter.widget-view+json": {
       "version_major": 2,
       "version_minor": 0,
       "model_id": "99da04f576f748168402cc97fabc1deb"
      }
     },
     "metadata": {},
     "output_type": "display_data"
    },
    {
     "data": {
      "text/plain": [
       "Validation: |          | 0/? [00:00<?, ?it/s]"
      ],
      "application/vnd.jupyter.widget-view+json": {
       "version_major": 2,
       "version_minor": 0,
       "model_id": "862e5b9ba0f44b8a9c7d2b00feee9857"
      }
     },
     "metadata": {},
     "output_type": "display_data"
    },
    {
     "data": {
      "text/plain": [
       "Validation: |          | 0/? [00:00<?, ?it/s]"
      ],
      "application/vnd.jupyter.widget-view+json": {
       "version_major": 2,
       "version_minor": 0,
       "model_id": "bf35a91c835b4e52aa8f65ffd3eb0a22"
      }
     },
     "metadata": {},
     "output_type": "display_data"
    },
    {
     "data": {
      "text/plain": [
       "Validation: |          | 0/? [00:00<?, ?it/s]"
      ],
      "application/vnd.jupyter.widget-view+json": {
       "version_major": 2,
       "version_minor": 0,
       "model_id": "71b5a147344340f383ff1e2836166080"
      }
     },
     "metadata": {},
     "output_type": "display_data"
    },
    {
     "data": {
      "text/plain": [
       "Validation: |          | 0/? [00:00<?, ?it/s]"
      ],
      "application/vnd.jupyter.widget-view+json": {
       "version_major": 2,
       "version_minor": 0,
       "model_id": "0b51aafd60314f66a8f9eeea451f8de9"
      }
     },
     "metadata": {},
     "output_type": "display_data"
    },
    {
     "data": {
      "text/plain": [
       "Validation: |          | 0/? [00:00<?, ?it/s]"
      ],
      "application/vnd.jupyter.widget-view+json": {
       "version_major": 2,
       "version_minor": 0,
       "model_id": "8052f9178a6c49d19bf26b54faae9873"
      }
     },
     "metadata": {},
     "output_type": "display_data"
    },
    {
     "data": {
      "text/plain": [
       "Validation: |          | 0/? [00:00<?, ?it/s]"
      ],
      "application/vnd.jupyter.widget-view+json": {
       "version_major": 2,
       "version_minor": 0,
       "model_id": "19ccb93e43ea4fcf9674be981273a357"
      }
     },
     "metadata": {},
     "output_type": "display_data"
    },
    {
     "data": {
      "text/plain": [
       "Validation: |          | 0/? [00:00<?, ?it/s]"
      ],
      "application/vnd.jupyter.widget-view+json": {
       "version_major": 2,
       "version_minor": 0,
       "model_id": "6faf1bfdcd434516a836749ff187f9fc"
      }
     },
     "metadata": {},
     "output_type": "display_data"
    },
    {
     "data": {
      "text/plain": [
       "Validation: |          | 0/? [00:00<?, ?it/s]"
      ],
      "application/vnd.jupyter.widget-view+json": {
       "version_major": 2,
       "version_minor": 0,
       "model_id": "9824650174c648d69b22c46dba7c34e0"
      }
     },
     "metadata": {},
     "output_type": "display_data"
    },
    {
     "data": {
      "text/plain": [
       "Validation: |          | 0/? [00:00<?, ?it/s]"
      ],
      "application/vnd.jupyter.widget-view+json": {
       "version_major": 2,
       "version_minor": 0,
       "model_id": "cf5f3d49d9234d34bc7aa9eb9be52455"
      }
     },
     "metadata": {},
     "output_type": "display_data"
    },
    {
     "data": {
      "text/plain": [
       "Validation: |          | 0/? [00:00<?, ?it/s]"
      ],
      "application/vnd.jupyter.widget-view+json": {
       "version_major": 2,
       "version_minor": 0,
       "model_id": "13c817c729b04d439884c13ba7ddc2ab"
      }
     },
     "metadata": {},
     "output_type": "display_data"
    },
    {
     "data": {
      "text/plain": [
       "Validation: |          | 0/? [00:00<?, ?it/s]"
      ],
      "application/vnd.jupyter.widget-view+json": {
       "version_major": 2,
       "version_minor": 0,
       "model_id": "3bb2e90f1b4c4aaba83cd852a5242625"
      }
     },
     "metadata": {},
     "output_type": "display_data"
    },
    {
     "data": {
      "text/plain": [
       "Validation: |          | 0/? [00:00<?, ?it/s]"
      ],
      "application/vnd.jupyter.widget-view+json": {
       "version_major": 2,
       "version_minor": 0,
       "model_id": "83d06f2bf67440d1982fe035427efced"
      }
     },
     "metadata": {},
     "output_type": "display_data"
    },
    {
     "name": "stderr",
     "output_type": "stream",
     "text": [
      "`Trainer.fit` stopped: `max_epochs=50` reached.\n",
      "LOCAL_RANK: 0 - CUDA_VISIBLE_DEVICES: [0]\n"
     ]
    },
    {
     "data": {
      "text/plain": [
       "Testing: |          | 0/? [00:00<?, ?it/s]"
      ],
      "application/vnd.jupyter.widget-view+json": {
       "version_major": 2,
       "version_minor": 0,
       "model_id": "93d852f40a0a4fedba3a2f31088e3f63"
      }
     },
     "metadata": {},
     "output_type": "display_data"
    },
    {
     "data": {
      "text/plain": [
       "┏━━━━━━━━━━━━━━━━━━━━━━━━━━━┳━━━━━━━━━━━━━━━━━━━━━━━━━━━┓\n",
       "┃\u001B[1m \u001B[0m\u001B[1m       Test metric       \u001B[0m\u001B[1m \u001B[0m┃\u001B[1m \u001B[0m\u001B[1m      DataLoader 0       \u001B[0m\u001B[1m \u001B[0m┃\n",
       "┡━━━━━━━━━━━━━━━━━━━━━━━━━━━╇━━━━━━━━━━━━━━━━━━━━━━━━━━━┩\n",
       "│\u001B[36m \u001B[0m\u001B[36m        test_acc         \u001B[0m\u001B[36m \u001B[0m│\u001B[35m \u001B[0m\u001B[35m           1.0           \u001B[0m\u001B[35m \u001B[0m│\n",
       "│\u001B[36m \u001B[0m\u001B[36m        test_loss        \u001B[0m\u001B[36m \u001B[0m│\u001B[35m \u001B[0m\u001B[35m  0.005266088526695967   \u001B[0m\u001B[35m \u001B[0m│\n",
       "└───────────────────────────┴───────────────────────────┘\n"
      ],
      "text/html": [
       "<pre style=\"white-space:pre;overflow-x:auto;line-height:normal;font-family:Menlo,'DejaVu Sans Mono',consolas,'Courier New',monospace\">┏━━━━━━━━━━━━━━━━━━━━━━━━━━━┳━━━━━━━━━━━━━━━━━━━━━━━━━━━┓\n",
       "┃<span style=\"font-weight: bold\">        Test metric        </span>┃<span style=\"font-weight: bold\">       DataLoader 0        </span>┃\n",
       "┡━━━━━━━━━━━━━━━━━━━━━━━━━━━╇━━━━━━━━━━━━━━━━━━━━━━━━━━━┩\n",
       "│<span style=\"color: #008080; text-decoration-color: #008080\">         test_acc          </span>│<span style=\"color: #800080; text-decoration-color: #800080\">            1.0            </span>│\n",
       "│<span style=\"color: #008080; text-decoration-color: #008080\">         test_loss         </span>│<span style=\"color: #800080; text-decoration-color: #800080\">   0.005266088526695967    </span>│\n",
       "└───────────────────────────┴───────────────────────────┘\n",
       "</pre>\n"
      ]
     },
     "metadata": {},
     "output_type": "display_data"
    },
    {
     "name": "stdout",
     "output_type": "stream",
     "text": [
      "Test Accuracy: 1.0000\n",
      "Full Lightning checkpoint saved to Saved_Features/ViT_fire_feature_extractor.pth\n",
      "\n",
      "Loading feature extractor for inference...\n",
      "\n",
      "Extracting features from training dataset...\n",
      "Extracted 2064 feature vectors (768-dim each)\n",
      "\n",
      "Features ready for transfer learning or multi-model systems:\n",
      "Feature vector shape: (768,)\n",
      "Sample feature (first 10 values): [-0.64571846  0.32698774 -0.3455914   0.02660201  0.18178685  0.8263693\n",
      " -0.7369985   0.02089056  0.43907887  1.0128295 ]...\n",
      "\n",
      "Total Execution Time: 7369.29 seconds (122.82 minutes)\n"
     ]
    }
   ],
   "execution_count": 37
  },
  {
   "metadata": {},
   "cell_type": "markdown",
   "source": "## CNN Branch",
   "id": "5da7e78bdf6694e5"
  },
  {
   "metadata": {},
   "cell_type": "markdown",
   "source": "### Dataset",
   "id": "df422fde74918d98"
  },
  {
   "metadata": {
    "ExecuteTime": {
     "end_time": "2025-07-25T16:09:55.614165Z",
     "start_time": "2025-07-25T16:09:55.599226Z"
    }
   },
   "cell_type": "code",
   "source": [
    "# Custom Dataset Class for Thermal Images\n",
    "class CustomImageDataset(Dataset):\n",
    "    \"\"\"\n",
    "    PyTorch Dataset for loading thermal images with associated labels.\n",
    "\n",
    "    Args:\n",
    "        image_paths: List of full paths to image files\n",
    "        labels: List of corresponding labels (0 for non-fire, 1 for fire)\n",
    "        transform: Composition of image transformations to apply\n",
    "    \"\"\"\n",
    "    def __init__(self, image_paths, labels, transform=None):\n",
    "        self.image_paths = image_paths\n",
    "        self.labels = labels\n",
    "        self.transform = transform  # Image preprocessing pipeline\n",
    "\n",
    "    def __len__(self):\n",
    "        \"\"\"Returns total number of samples in dataset\"\"\"\n",
    "        return len(self.image_paths)\n",
    "\n",
    "    def __getitem__(self, idx):\n",
    "        \"\"\"Loads and transforms image at index, returns (image, label)\"\"\"\n",
    "        img_path = self.image_paths[idx]\n",
    "        image = Image.open(img_path)  # Load image using PIL\n",
    "        label = self.labels[idx]       # Get corresponding label\n",
    "\n",
    "        if self.transform:\n",
    "            image = self.transform(image)  # Apply transformations\n",
    "\n",
    "        return image, label\n",
    "\n",
    "# --- IMAGE TRANSFORMATION PIPELINES ---\n",
    "# Training augmentation pipeline (applied to training set only)\n",
    "augment_transform = v2.Compose([\n",
    "    v2.RandomResizedCrop(size=(224, 224), antialias=True),  # Random crop and resize\n",
    "    v2.RandomHorizontalFlip(p=0.5),                         # Random left-right flip\n",
    "    v2.GaussianBlur(kernel_size=3, sigma=(0.5, 2.0)),        # Add blur for robustness\n",
    "    v2.ToImage(),                                           # Convert to tensor\n",
    "    v2.ToDtype(torch.float32, scale=True),                  # Normalize to [0,1]\n",
    "    v2.Grayscale(num_output_channels=1),                    # Convert to single channel\n",
    "    v2.Normalize(mean=[0.5], std=[0.5]),                    # Scale to [-1,1] range\n",
    "])\n",
    "\n",
    "# Testing/validation pipeline (minimal transformation)\n",
    "test_transform = v2.Compose([\n",
    "    v2.Resize(size=(224, 224), antialias=True),  # Fixed size resize\n",
    "    v2.ToImage(),                                # Convert to tensor\n",
    "    v2.ToDtype(torch.float32, scale=True),       # Normalize to [0,1]\n",
    "    v2.Grayscale(num_output_channels=1),         # Convert to single channel\n",
    "    v2.Normalize(mean=[0.5], std=[0.5]),         # Scale to [-1,1] range\n",
    "])\n",
    "\n",
    "# --- DATASET LOADING ---\n",
    "# Define paths to thermal image directories\n",
    "fire_dir = 'dataset/thermal/fire'      # Directory containing fire images\n",
    "non_fire_dir = 'dataset/thermal/no_fire'  # Directory containing non-fire images\n",
    "\n",
    "image_paths = []  # Will store full paths to all images\n",
    "labels = []       # Will store corresponding labels (1=fire, 0=non-fire)\n",
    "\n",
    "# Load fire images (label=1)\n",
    "if os.path.isdir(fire_dir):\n",
    "    for filename in os.listdir(fire_dir):\n",
    "        # Process only image files with common extensions\n",
    "        if filename.lower().endswith(('.jpg', '.png', '.jpeg')):\n",
    "            image_paths.append(os.path.join(fire_dir, filename))\n",
    "            labels.append(1)  # Fire label\n",
    "\n",
    "# Load non-fire images (label=0)\n",
    "if os.path.isdir(non_fire_dir):\n",
    "    for filename in os.listdir(non_fire_dir):\n",
    "        if filename.lower().endswith(('.jpg', '.png', '.jpeg')):\n",
    "            image_paths.append(os.path.join(non_fire_dir, filename))\n",
    "            labels.append(0)  # Non-fire label\n",
    "\n",
    "# Print dataset statistics\n",
    "print(f\"Number of fire images found: {labels.count(1)}\")\n",
    "print(f\"Number of non-fire images found: {labels.count(0)}\")\n",
    "print(f\"Total number of images found: {len(image_paths)}\")\n",
    "\n",
    "# --- DATASET SPLITTING ---\n",
    "if len(image_paths) > 0:\n",
    "    # Initial split: 80% training+validation, 20% testing (stratified by class)\n",
    "    train_image_paths, test_image_paths, train_labels, test_labels = train_test_split(\n",
    "        image_paths, labels,\n",
    "        test_size=0.2,\n",
    "        random_state=42,\n",
    "        stratify=labels  # Maintain class distribution\n",
    "    )\n",
    "\n",
    "    # Secondary split: 75% training, 25% validation (of the 80% training set)\n",
    "    train_image_paths, val_image_paths, train_labels, val_labels = train_test_split(\n",
    "        train_image_paths, train_labels,\n",
    "        test_size=0.25,  # 0.25 * 0.8 = 20% of total data\n",
    "        random_state=42,\n",
    "        stratify=train_labels  # Maintain class distribution\n",
    "    )\n",
    "\n",
    "    # Print split sizes\n",
    "    print(f\"\\nSplit Sizes:\")\n",
    "    print(f\" - Training set: {len(train_image_paths)} images\")\n",
    "    print(f\" - Validation set: {len(val_image_paths)} images\")\n",
    "    print(f\" - Test set: {len(test_image_paths)} images\")\n",
    "\n",
    "    # Create dataset instances with appropriate transforms\n",
    "    train_dataset = CustomImageDataset(\n",
    "        train_image_paths, train_labels,\n",
    "        transform=augment_transform  # Apply augmentations\n",
    "    )\n",
    "    val_dataset = CustomImageDataset(\n",
    "        val_image_paths, val_labels,\n",
    "        transform=test_transform    # Minimal transformation\n",
    "    )\n",
    "    test_dataset = CustomImageDataset(\n",
    "        test_image_paths, test_labels,\n",
    "        transform=test_transform    # Minimal transformation\n",
    "    )\n",
    "\n",
    "    # Verify dataset sizes\n",
    "    print(\"\\nDataset Sizes:\")\n",
    "    print(f\" - Training dataset: {len(train_dataset)} samples\")\n",
    "    print(f\" - Validation dataset: {len(val_dataset)} samples\")\n",
    "    print(f\" - Test dataset: {len(test_dataset)} samples\")\n",
    "\n",
    "    # --- DATALOADER CREATION ---\n",
    "    batch_size = 16  # Number of samples per batch\n",
    "\n",
    "    # Training dataloader with shuffling\n",
    "    train_dataloaderCNN = DataLoader(\n",
    "        train_dataset,\n",
    "        batch_size=batch_size,\n",
    "        shuffle=True  # Important for training\n",
    "    )\n",
    "\n",
    "    # Validation dataloader without shuffling\n",
    "    val_dataloaderCNN = DataLoader(\n",
    "        val_dataset,\n",
    "        batch_size=batch_size,\n",
    "        shuffle=False  # Maintain order for consistent evaluation\n",
    "    )\n",
    "\n",
    "    # Test dataloader without shuffling\n",
    "    test_dataloaderCNN = DataLoader(\n",
    "        test_dataset,\n",
    "        batch_size=batch_size,\n",
    "        shuffle=False  # Maintain order for final evaluation\n",
    "    )\n",
    "\n",
    "    # Print dataloader statistics\n",
    "    print(\"\\nDataloader Statistics:\")\n",
    "    print(f\" - Training batches: {len(train_dataloaderCNN)}\")\n",
    "    print(f\" - Validation batches: {len(val_dataloaderCNN)}\")\n",
    "    print(f\" - Test batches: {len(test_dataloaderCNN)}\")\n",
    "else:\n",
    "    print(\"Error: No images found. Check directory paths and file extensions.\")"
   ],
   "id": "33ac7de58cc05418",
   "outputs": [
    {
     "name": "stdout",
     "output_type": "stream",
     "text": [
      "Number of fire images found: 417\n",
      "Number of non-fire images found: 116\n",
      "Total number of images found: 533\n",
      "\n",
      "Split Sizes:\n",
      " - Training set: 319 images\n",
      " - Validation set: 107 images\n",
      " - Test set: 107 images\n",
      "\n",
      "Dataset Sizes:\n",
      " - Training dataset: 319 samples\n",
      " - Validation dataset: 107 samples\n",
      " - Test dataset: 107 samples\n",
      "\n",
      "Dataloader Statistics:\n",
      " - Training batches: 20\n",
      " - Validation batches: 7\n",
      " - Test batches: 7\n"
     ]
    }
   ],
   "execution_count": 49
  },
  {
   "metadata": {},
   "cell_type": "markdown",
   "source": "### CNN Model",
   "id": "29add8cf6d62df53"
  },
  {
   "metadata": {
    "ExecuteTime": {
     "end_time": "2025-07-25T16:09:59.128077Z",
     "start_time": "2025-07-25T16:09:59.122225Z"
    }
   },
   "cell_type": "code",
   "source": [
    "class FireFeatureExtractorCNN(nn.Module):\n",
    "    \"\"\"\n",
    "    Custom CNN feature extractor based on MobileNetV2 for fire detection in thermal images.\n",
    "\n",
    "    Modifies the first layer to accept single-channel (grayscale) input while preserving\n",
    "    pretrained knowledge through weight averaging. Includes feature refinement layers\n",
    "    and an optional classification head.\n",
    "    \"\"\"\n",
    "    def __init__(self, feature_dim=1280):\n",
    "        \"\"\"\n",
    "        Initialize the feature extractor.\n",
    "\n",
    "        Args:\n",
    "            feature_dim: Dimensionality of MobileNetV2's output features (default: 1280)\n",
    "        \"\"\"\n",
    "        super(FireFeatureExtractorCNN, self).__init__()\n",
    "        # Load pretrained MobileNetV2 (ImageNet weights)\n",
    "        self.base_model = models.mobilenet_v2(weights='IMAGENET1K_V1')\n",
    "\n",
    "        # --- INPUT CHANNEL ADAPTATION ---\n",
    "        # Modify first convolution layer to accept 1-channel (grayscale) input\n",
    "        original_first_conv = self.base_model.features[0][0]\n",
    "        self.base_model.features[0][0] = nn.Conv2d(\n",
    "            1,  # Single channel input (thermal images)\n",
    "            original_first_conv.out_channels,\n",
    "            kernel_size=original_first_conv.kernel_size,\n",
    "            stride=original_first_conv.stride,\n",
    "            padding=original_first_conv.padding,\n",
    "            bias=False  # Match original MobileNet configuration\n",
    "        )\n",
    "\n",
    "        # Initialize with averaged RGB weights (preserve pretrained knowledge)\n",
    "        with torch.no_grad():\n",
    "            # Average weights across RGB channels: [out, 3, k, k] -> [out, 1, k, k]\n",
    "            new_weight = original_first_conv.weight.mean(dim=1, keepdim=True)\n",
    "            self.base_model.features[0][0].weight.copy_(new_weight)\n",
    "\n",
    "        # --- FEATURE EXTRACTION LAYERS ---\n",
    "        # Use MobileNetV2's convolutional feature blocks\n",
    "        self.features = self.base_model.features\n",
    "\n",
    "        # Feature processing: Global pooling + flattening\n",
    "        self.feature_processor = nn.Sequential(\n",
    "            nn.AdaptiveAvgPool2d((1, 1)),  # Reduce spatial dimensions to 1x1\n",
    "            nn.Flatten()                   # Convert to 1D feature vector\n",
    "        )\n",
    "\n",
    "        # --- FEATURE REFINEMENT ---\n",
    "        # Additional layers to process extracted features\n",
    "        self.feature_refiner = nn.Sequential(\n",
    "            nn.Linear(feature_dim, 512),  # Compress features\n",
    "            nn.ReLU(inplace=True),         # Non-linear activation\n",
    "            nn.Dropout(0.3)                # Regularization\n",
    "        )\n",
    "\n",
    "        # --- CLASSIFICATION HEAD ---\n",
    "        # Final layer for binary classification (fire/no-fire)\n",
    "        self.classifier = nn.Linear(512, 1)  # Output: single logit\n",
    "\n",
    "    def forward(self, x, return_features=False):\n",
    "        \"\"\"\n",
    "        Forward pass with option to return intermediate features.\n",
    "\n",
    "        Args:\n",
    "            x: Input tensor (batch_size, 1, H, W)\n",
    "            return_features: Whether to return refined features\n",
    "\n",
    "        Returns:\n",
    "            logits: Classification outputs when return_features=False\n",
    "            (logits, features): Tuple when return_features=True\n",
    "        \"\"\"\n",
    "        # Feature extraction through MobileNetV2 backbone\n",
    "        x = self.features(x)\n",
    "\n",
    "        # Process features: pooling + flattening\n",
    "        x = self.feature_processor(x)\n",
    "\n",
    "        # Refine features through additional layers\n",
    "        features = self.feature_refiner(x)\n",
    "\n",
    "        # Classification output (used during training)\n",
    "        logits = self.classifier(features)\n",
    "\n",
    "        # Return features if requested (for feature extraction use)\n",
    "        if return_features:\n",
    "            return logits, features\n",
    "        return logits"
   ],
   "id": "db7cc07a7fb4c8f3",
   "outputs": [],
   "execution_count": 50
  },
  {
   "metadata": {},
   "cell_type": "markdown",
   "source": "### Training",
   "id": "394a2a8ac03b7ad3"
  },
  {
   "metadata": {
    "ExecuteTime": {
     "end_time": "2025-07-25T16:15:48.796326Z",
     "start_time": "2025-07-25T16:15:48.782467Z"
    }
   },
   "cell_type": "code",
   "source": [
    "# --- MODEL TRAINING AND EVALUATION FUNCTIONS ---\n",
    "def train_model(model, train_dataloader, val_dataloader, num_epochs=10, lr=0.001):\n",
    "    \"\"\"\n",
    "    Trains a model end-to-end with validation monitoring and best model saving.\n",
    "\n",
    "    Args:\n",
    "        model: Model to train\n",
    "        train_dataloader: Training data loader\n",
    "        val_dataloader: Validation data loader\n",
    "        num_epochs: Number of training epochs\n",
    "        lr: Learning rate\n",
    "\n",
    "    Returns:\n",
    "        model: Trained model with best weights loaded\n",
    "    \"\"\"\n",
    "    # Set device (GPU if available, else CPU)\n",
    "    device = torch.device('cuda' if torch.cuda.is_available() else 'cpu')\n",
    "    model = model.to(device)\n",
    "    print(f\"Training on: {device}\")\n",
    "\n",
    "    # Loss and optimizer configuration\n",
    "    criterion = nn.BCEWithLogitsLoss()  # Binary cross entropy with logits\n",
    "    optimizer = optim.Adam(model.parameters(), lr=lr)  # Adam optimizer\n",
    "\n",
    "    # Track training history\n",
    "    train_losses = []  # Training loss per epoch\n",
    "    val_losses = []    # Validation loss per epoch\n",
    "    val_accuracies = []  # Validation accuracy per epoch\n",
    "\n",
    "    # Best model tracking\n",
    "    best_val_acc = 0.0\n",
    "    best_model_state = None  # Store best model weights\n",
    "\n",
    "    # Epoch loop\n",
    "    for epoch in range(num_epochs):\n",
    "        # --- TRAINING PHASE ---\n",
    "        model.train()  # Set model to training mode\n",
    "        running_loss = 0.0  # Accumulate loss\n",
    "        # Progress bar with dynamic updates\n",
    "        progress_bar = tqdm(train_dataloader, desc=f'Epoch {epoch+1}/{num_epochs} [Train]')\n",
    "\n",
    "        # Batch iteration\n",
    "        for images, labels in progress_bar:\n",
    "            images, labels = images.to(device), labels.to(device).float()\n",
    "\n",
    "            # Reset gradients\n",
    "            optimizer.zero_grad()\n",
    "\n",
    "            # Forward pass and loss calculation\n",
    "            outputs = model(images)\n",
    "            loss = criterion(outputs.squeeze(), labels)  # Remove extra dimensions\n",
    "\n",
    "            # Backpropagation and optimization\n",
    "            loss.backward()\n",
    "            optimizer.step()\n",
    "\n",
    "            # Update statistics\n",
    "            running_loss += loss.item() * images.size(0)  # Weight by batch size\n",
    "            progress_bar.set_postfix({'loss': loss.item()})  # Update progress bar\n",
    "\n",
    "        # Calculate epoch training loss\n",
    "        epoch_loss = running_loss / len(train_dataloader.dataset)\n",
    "        train_losses.append(epoch_loss)\n",
    "\n",
    "        # --- VALIDATION PHASE ---\n",
    "        val_loss, val_acc = validate_model(model, val_dataloader, criterion, device)\n",
    "        val_losses.append(val_loss)\n",
    "        val_accuracies.append(val_acc)\n",
    "\n",
    "        # Save best model checkpoint\n",
    "        if val_acc > best_val_acc:\n",
    "            best_val_acc = val_acc\n",
    "            best_model_state = model.state_dict().copy()  # Deep copy of weights\n",
    "            print(f\"New best model with val_acc: {val_acc:.4f}\")\n",
    "\n",
    "        # Epoch summary\n",
    "        print(f'Epoch {epoch+1}/{num_epochs} - '\n",
    "              f'Train Loss: {epoch_loss:.4f}, '\n",
    "              f'Val Loss: {val_loss:.4f}, '\n",
    "              f'Val Acc: {val_acc:.4f}')\n",
    "\n",
    "    # Visualize training history\n",
    "    plot_training_history(train_losses, val_losses, val_accuracies)\n",
    "\n",
    "    # Save best weights to disk\n",
    "    torch.save(best_model_state, 'Saved_Features/CNN_best_model_weights.pth')\n",
    "    print(\"Saved best model weights to 'Saved_Features/CNN_best_model_weights.pth'\")\n",
    "\n",
    "    # Load best weights into model\n",
    "    model.load_state_dict(best_model_state)\n",
    "\n",
    "    return model\n",
    "\n",
    "def validate_model(model, val_dataloader, criterion, device):\n",
    "    \"\"\"\n",
    "    Evaluates model performance on validation set.\n",
    "\n",
    "    Args:\n",
    "        model: Model to evaluate\n",
    "        val_dataloader: Validation data loader\n",
    "        criterion: Loss function\n",
    "        device: Computation device\n",
    "\n",
    "    Returns:\n",
    "        val_loss: Average validation loss\n",
    "        val_acc: Validation accuracy\n",
    "    \"\"\"\n",
    "    model.eval()  # Set to evaluation mode\n",
    "    running_loss = 0.0\n",
    "    correct = 0  # Correct prediction count\n",
    "    total = 0    # Total samples\n",
    "\n",
    "    with torch.no_grad():  # Disable gradient calculation\n",
    "        for images, labels in val_dataloader:\n",
    "            images, labels = images.to(device), labels.to(device).float()\n",
    "\n",
    "            # Forward pass\n",
    "            outputs = model(images)\n",
    "            loss = criterion(outputs.squeeze(), labels)\n",
    "\n",
    "            # Accumulate loss\n",
    "            running_loss += loss.item() * images.size(0)\n",
    "\n",
    "            # Calculate accuracy\n",
    "            preds = torch.sigmoid(outputs) > 0.5  # Convert logits to binary predictions\n",
    "            correct += (preds.squeeze() == labels).sum().item()\n",
    "            total += labels.size(0)\n",
    "\n",
    "    # Calculate metrics\n",
    "    val_loss = running_loss / len(val_dataloader.dataset)\n",
    "    val_acc = correct / total\n",
    "\n",
    "    return val_loss, val_acc\n",
    "\n",
    "def test_model(model, test_dataloader, device):\n",
    "    \"\"\"\n",
    "    Evaluates model on test set and extracts features.\n",
    "\n",
    "    Args:\n",
    "        model: Trained model (should support return_features)\n",
    "        test_dataloader: Test data loader\n",
    "        device: Computation device\n",
    "\n",
    "    Returns:\n",
    "        test_acc: Test accuracy\n",
    "        all_features: Extracted features from test set\n",
    "        all_labels: Corresponding labels\n",
    "    \"\"\"\n",
    "    model.eval()\n",
    "    correct = 0\n",
    "    total = 0\n",
    "    all_features = []  # Feature storage\n",
    "    all_labels = []    # Label storage\n",
    "\n",
    "    with torch.no_grad():\n",
    "        for images, labels in test_dataloader:\n",
    "            images, labels = images.to(device), labels.to(device).float()\n",
    "\n",
    "            # Forward pass to get features and logits\n",
    "            outputs, features = model(images, return_features=True)\n",
    "\n",
    "            # Store features and labels for later analysis\n",
    "            all_features.append(features.cpu().numpy())\n",
    "            all_labels.append(labels.cpu().numpy())\n",
    "\n",
    "            # Calculate accuracy\n",
    "            preds = torch.sigmoid(outputs) > 0.5\n",
    "            correct += (preds.squeeze() == labels).sum().item()\n",
    "            total += labels.size(0)\n",
    "\n",
    "    # Final test accuracy\n",
    "    test_acc = correct / total\n",
    "    print(f'Test Accuracy: {test_acc:.4f}')\n",
    "\n",
    "    # Combine all batches\n",
    "    all_features = np.concatenate(all_features)\n",
    "    all_labels = np.concatenate(all_labels)\n",
    "\n",
    "    return test_acc, all_features, all_labels\n",
    "\n",
    "def plot_training_history(train_losses, val_losses, val_accuracies):\n",
    "    \"\"\"\n",
    "    Plots training history and saves to file.\n",
    "\n",
    "    Args:\n",
    "        train_losses: List of training losses per epoch\n",
    "        val_losses: List of validation losses per epoch\n",
    "        val_accuracies: List of validation accuracies per epoch\n",
    "    \"\"\"\n",
    "    plt.figure(figsize=(12, 4))\n",
    "\n",
    "    # Loss plot (left)\n",
    "    plt.subplot(1, 2, 1)\n",
    "    plt.plot(train_losses, label='Train Loss')\n",
    "    plt.plot(val_losses, label='Val Loss')\n",
    "    plt.xlabel('Epoch')\n",
    "    plt.ylabel('Loss')\n",
    "    plt.legend()\n",
    "    plt.title('Training and Validation Loss')\n",
    "\n",
    "    # Accuracy plot (right)\n",
    "    plt.subplot(1, 2, 2)\n",
    "    plt.plot(val_accuracies, label='Val Accuracy', color='green')\n",
    "    plt.xlabel('Epoch')\n",
    "    plt.ylabel('Accuracy')\n",
    "    plt.ylim(0, 1)  # Ensure accuracy range is visible\n",
    "    plt.legend()\n",
    "    plt.title('Validation Accuracy')\n",
    "\n",
    "    # Save and close plot\n",
    "    plt.tight_layout()\n",
    "    plt.savefig('Figures/CNN_training_history.png')\n",
    "    plt.close()\n",
    "    print(\"Saved training history plot to 'CNN_training_history.png'\")\n",
    "\n",
    "def save_feature_extractor_cnn(model, path=\"Saved_Features/CNN_feature_extractor.pth\"):\n",
    "    \"\"\"\n",
    "    Saves CNN feature extractor weights without classification head.\n",
    "\n",
    "    Args:\n",
    "        model: Trained model with feature extraction layers\n",
    "        path: Output file path\n",
    "    \"\"\"\n",
    "    # Create state dictionary excluding classifier layers\n",
    "    state_dict = model.state_dict()\n",
    "    # Identify classifier parameters to remove\n",
    "    keys_to_remove = [k for k in state_dict.keys() if k.startswith('classifier')]\n",
    "    for k in keys_to_remove:\n",
    "        del state_dict[k]\n",
    "\n",
    "    # Save modified state dictionary\n",
    "    torch.save(state_dict, path)\n",
    "    print(f\"CNN feature extractor saved to {path} (without classifier)\")"
   ],
   "id": "bcca91271a81f6e2",
   "outputs": [],
   "execution_count": 56
  },
  {
   "metadata": {
    "ExecuteTime": {
     "end_time": "2025-07-25T16:18:00.094361Z",
     "start_time": "2025-07-25T16:16:26.080590Z"
    }
   },
   "cell_type": "code",
   "source": [
    "# --- FEATURE EXTRACTOR TRAINING PIPELINE ---\n",
    "# Clear GPU memory cache to prevent out-of-memory errors\n",
    "torch.cuda.empty_cache()\n",
    "\n",
    "# Start performance timer\n",
    "start = time.time()\n",
    "\n",
    "# Step 1: Initialize the CNN-based feature extractor model\n",
    "print(\"Initializing feature extractor model...\")\n",
    "model = FireFeatureExtractorCNN()\n",
    "\n",
    "# Step 2: Train the model\n",
    "print(\"\\nStarting model training...\")\n",
    "trained_model = train_model(\n",
    "    model,\n",
    "    train_dataloaderCNN,  # Training data loader\n",
    "    val_dataloaderCNN,     # Validation data loader\n",
    "    num_epochs=15,         # Training epochs\n",
    "    lr=0.0001              # Learning rate\n",
    ")\n",
    "\n",
    "# Step 3: Evaluate on test set and extract features\n",
    "print(\"\\nEvaluating model on test set...\")\n",
    "device = torch.device('cuda' if torch.cuda.is_available() else 'cpu')\n",
    "test_acc, test_features, test_labels = test_model(\n",
    "    trained_model,          # Trained model\n",
    "    test_dataloaderCNN,     # Test data loader\n",
    "    device                  # Computation device\n",
    ")\n",
    "print(f\"Test Accuracy: {test_acc:.4f}\")\n",
    "\n",
    "# Step 4: Save feature extractor without classification head\n",
    "print(\"\\nSaving feature extractor weights...\")\n",
    "save_feature_extractor_cnn(trained_model, \"Saved_Features/CNN_fire_feature_extractor.pth\")\n",
    "\n",
    "# Step 5: Analyze extracted features\n",
    "print(\"\\nFeature Extraction Summary:\")\n",
    "print(f\"Extracted {len(test_features)} feature vectors\")\n",
    "print(f\"Feature vector shape: {test_features[0].shape}\")  # Should be (512,)\n",
    "print(\"Sample feature (first 10 values):\", test_features[0][:10])\n",
    "print(\"...\")\n",
    "\n",
    "# Step 6: Save features for downstream multi-model system\n",
    "print(\"\\nSaving features for ensemble model training...\")\n",
    "np.save('Saved_Features/CNN_test_features.npy', test_features)  # Save feature vectors\n",
    "np.save('Saved_Features/CNN_test_labels.npy', test_labels)      # Save corresponding labels\n",
    "print(\"Features and labels saved in Saved_Features/ (test_features.npy, test_labels.npy)\")\n",
    "\n",
    "# Calculate and display execution time\n",
    "time_taken = time.time() - start\n",
    "print(f\"\\nTotal Execution Time: {time_taken:.2f} seconds ({time_taken / 60:.2f} minutes)\")"
   ],
   "id": "5329349b55e4280f",
   "outputs": [
    {
     "name": "stdout",
     "output_type": "stream",
     "text": [
      "Initializing feature extractor model...\n",
      "\n",
      "Starting model training...\n",
      "Training on: cuda\n"
     ]
    },
    {
     "name": "stderr",
     "output_type": "stream",
     "text": [
      "Epoch 1/15 [Train]: 100%|██████████| 20/20 [00:05<00:00,  3.66it/s, loss=0.0437]\n"
     ]
    },
    {
     "name": "stdout",
     "output_type": "stream",
     "text": [
      "New best model with val_acc: 1.0000\n",
      "Epoch 1/15 - Train Loss: 0.2530, Val Loss: 0.0874, Val Acc: 1.0000\n"
     ]
    },
    {
     "name": "stderr",
     "output_type": "stream",
     "text": [
      "Epoch 2/15 [Train]: 100%|██████████| 20/20 [00:05<00:00,  3.69it/s, loss=0.00451]\n"
     ]
    },
    {
     "name": "stdout",
     "output_type": "stream",
     "text": [
      "Epoch 2/15 - Train Loss: 0.0410, Val Loss: 0.0471, Val Acc: 1.0000\n"
     ]
    },
    {
     "name": "stderr",
     "output_type": "stream",
     "text": [
      "Epoch 3/15 [Train]: 100%|██████████| 20/20 [00:05<00:00,  3.72it/s, loss=0.00747]\n"
     ]
    },
    {
     "name": "stdout",
     "output_type": "stream",
     "text": [
      "Epoch 3/15 - Train Loss: 0.0361, Val Loss: 0.0279, Val Acc: 0.9907\n"
     ]
    },
    {
     "name": "stderr",
     "output_type": "stream",
     "text": [
      "Epoch 4/15 [Train]: 100%|██████████| 20/20 [00:05<00:00,  3.73it/s, loss=0.00205]\n"
     ]
    },
    {
     "name": "stdout",
     "output_type": "stream",
     "text": [
      "Epoch 4/15 - Train Loss: 0.0201, Val Loss: 0.0018, Val Acc: 1.0000\n"
     ]
    },
    {
     "name": "stderr",
     "output_type": "stream",
     "text": [
      "Epoch 5/15 [Train]: 100%|██████████| 20/20 [00:05<00:00,  3.66it/s, loss=0.000721]\n"
     ]
    },
    {
     "name": "stdout",
     "output_type": "stream",
     "text": [
      "Epoch 5/15 - Train Loss: 0.0181, Val Loss: 0.0006, Val Acc: 1.0000\n"
     ]
    },
    {
     "name": "stderr",
     "output_type": "stream",
     "text": [
      "Epoch 6/15 [Train]: 100%|██████████| 20/20 [00:05<00:00,  3.77it/s, loss=0.00154] \n"
     ]
    },
    {
     "name": "stdout",
     "output_type": "stream",
     "text": [
      "Epoch 6/15 - Train Loss: 0.0088, Val Loss: 0.0020, Val Acc: 1.0000\n"
     ]
    },
    {
     "name": "stderr",
     "output_type": "stream",
     "text": [
      "Epoch 7/15 [Train]: 100%|██████████| 20/20 [00:05<00:00,  3.77it/s, loss=0.0006]  \n"
     ]
    },
    {
     "name": "stdout",
     "output_type": "stream",
     "text": [
      "Epoch 7/15 - Train Loss: 0.0033, Val Loss: 0.0008, Val Acc: 1.0000\n"
     ]
    },
    {
     "name": "stderr",
     "output_type": "stream",
     "text": [
      "Epoch 8/15 [Train]: 100%|██████████| 20/20 [00:05<00:00,  3.60it/s, loss=0.000186]\n"
     ]
    },
    {
     "name": "stdout",
     "output_type": "stream",
     "text": [
      "Epoch 8/15 - Train Loss: 0.0018, Val Loss: 0.0004, Val Acc: 1.0000\n"
     ]
    },
    {
     "name": "stderr",
     "output_type": "stream",
     "text": [
      "Epoch 9/15 [Train]: 100%|██████████| 20/20 [00:05<00:00,  3.55it/s, loss=0.000433]\n"
     ]
    },
    {
     "name": "stdout",
     "output_type": "stream",
     "text": [
      "Epoch 9/15 - Train Loss: 0.0027, Val Loss: 0.0003, Val Acc: 1.0000\n"
     ]
    },
    {
     "name": "stderr",
     "output_type": "stream",
     "text": [
      "Epoch 10/15 [Train]: 100%|██████████| 20/20 [00:05<00:00,  3.77it/s, loss=0.000141]\n"
     ]
    },
    {
     "name": "stdout",
     "output_type": "stream",
     "text": [
      "Epoch 10/15 - Train Loss: 0.0019, Val Loss: 0.0004, Val Acc: 1.0000\n"
     ]
    },
    {
     "name": "stderr",
     "output_type": "stream",
     "text": [
      "Epoch 11/15 [Train]: 100%|██████████| 20/20 [00:05<00:00,  3.80it/s, loss=0.000539]\n"
     ]
    },
    {
     "name": "stdout",
     "output_type": "stream",
     "text": [
      "Epoch 11/15 - Train Loss: 0.0115, Val Loss: 0.0190, Val Acc: 0.9907\n"
     ]
    },
    {
     "name": "stderr",
     "output_type": "stream",
     "text": [
      "Epoch 12/15 [Train]: 100%|██████████| 20/20 [00:05<00:00,  3.74it/s, loss=0.000437]\n"
     ]
    },
    {
     "name": "stdout",
     "output_type": "stream",
     "text": [
      "Epoch 12/15 - Train Loss: 0.0041, Val Loss: 0.0010, Val Acc: 1.0000\n"
     ]
    },
    {
     "name": "stderr",
     "output_type": "stream",
     "text": [
      "Epoch 13/15 [Train]: 100%|██████████| 20/20 [00:05<00:00,  3.64it/s, loss=0.0285]  \n"
     ]
    },
    {
     "name": "stdout",
     "output_type": "stream",
     "text": [
      "Epoch 13/15 - Train Loss: 0.0028, Val Loss: 0.0011, Val Acc: 1.0000\n"
     ]
    },
    {
     "name": "stderr",
     "output_type": "stream",
     "text": [
      "Epoch 14/15 [Train]: 100%|██████████| 20/20 [00:05<00:00,  3.50it/s, loss=6.94e-5] \n"
     ]
    },
    {
     "name": "stdout",
     "output_type": "stream",
     "text": [
      "Epoch 14/15 - Train Loss: 0.0006, Val Loss: 0.0003, Val Acc: 1.0000\n"
     ]
    },
    {
     "name": "stderr",
     "output_type": "stream",
     "text": [
      "Epoch 15/15 [Train]: 100%|██████████| 20/20 [00:05<00:00,  3.78it/s, loss=0.0365]  \n"
     ]
    },
    {
     "name": "stdout",
     "output_type": "stream",
     "text": [
      "Epoch 15/15 - Train Loss: 0.0024, Val Loss: 0.0004, Val Acc: 1.0000\n",
      "Saved training history plot to 'CNN_training_history.png'\n",
      "Saved best model weights to 'Saved_Features/CNN_best_model_weights.pth'\n",
      "\n",
      "Evaluating model on test set...\n",
      "Test Accuracy: 1.0000\n",
      "Test Accuracy: 1.0000\n",
      "\n",
      "Saving feature extractor weights...\n",
      "CNN feature extractor saved to Saved_Features/CNN_fire_feature_extractor.pth (without classifier)\n",
      "\n",
      "Feature Extraction Summary:\n",
      "Extracted 107 feature vectors\n",
      "Feature vector shape: (512,)\n",
      "Sample feature (first 10 values): [0.        1.7396213 2.2018354 1.8157051 0.        1.3778495 1.6169935\n",
      " 2.6237175 0.        0.       ]\n",
      "...\n",
      "\n",
      "Saving features for ensemble model training...\n",
      "Features and labels saved in Saved_Features/ (test_features.npy, test_labels.npy)\n",
      "\n",
      "Total Execution Time: 93.98 seconds (1.57 minutes)\n"
     ]
    }
   ],
   "execution_count": 58
  },
  {
   "metadata": {
    "ExecuteTime": {
     "end_time": "2025-07-25T16:18:12.887455Z",
     "start_time": "2025-07-25T16:18:12.884140Z"
    }
   },
   "cell_type": "code",
   "source": [
    "# --- TEST SET FEATURE ANALYSIS ---\n",
    "# Print dataset statistics after feature extraction\n",
    "print(f\"Number of test samples: {len(test_labels)}\")       # Total test instances processed\n",
    "print(f\"Feature matrix shape: {test_features.shape}\")      # Dimensions: [samples x features]\n",
    "print(f\"Feature dimension: {test_features.shape[1]}\")      # Size of each feature vector"
   ],
   "id": "fe7b8d850d742c61",
   "outputs": [
    {
     "name": "stdout",
     "output_type": "stream",
     "text": [
      "Number of test samples: 107\n",
      "Feature matrix shape: (107, 512)\n",
      "Feature dimension: 512\n"
     ]
    }
   ],
   "execution_count": 59
  },
  {
   "metadata": {},
   "cell_type": "markdown",
   "source": "## NN classifer",
   "id": "2bc2106aceca6daf"
  },
  {
   "metadata": {},
   "cell_type": "markdown",
   "source": "### Dataset",
   "id": "d2cb938835e2ea53"
  },
  {
   "metadata": {
    "ExecuteTime": {
     "end_time": "2025-07-25T16:18:24.651038Z",
     "start_time": "2025-07-25T16:18:24.646555Z"
    }
   },
   "cell_type": "code",
   "source": [
    "# Dataset for multi-modal inputs (ViT + CNN)\n",
    "class DualInputDataset(Dataset):\n",
    "    def __init__(self, vit_image_paths, cnn_image_paths, labels, vit_transform, cnn_transform):\n",
    "        \"\"\"\n",
    "        Dataset for dual-input models (RGB + thermal)\n",
    "\n",
    "        Args:\n",
    "            vit_image_paths: List of paths to RGB images (ViT input)\n",
    "            cnn_image_paths: List of paths to thermal images (CNN input)\n",
    "            labels: List of corresponding labels\n",
    "            vit_transform: Transform pipeline for ViT images\n",
    "            cnn_transform: Transform pipeline for CNN images\n",
    "        \"\"\"\n",
    "        self.vit_image_paths = vit_image_paths\n",
    "        self.cnn_image_paths = cnn_image_paths\n",
    "        self.labels = labels\n",
    "        self.vit_transform = vit_transform\n",
    "        self.cnn_transform = cnn_transform\n",
    "\n",
    "        # Validate data alignment\n",
    "        if len(vit_image_paths) != len(cnn_image_paths) or len(vit_image_paths) != len(labels):\n",
    "            raise ValueError(\"Input lengths mismatch: ViT paths, CNN paths and labels must be equal\")\n",
    "\n",
    "    def __len__(self):\n",
    "        \"\"\"Returns total number of samples\"\"\"\n",
    "        return len(self.labels)\n",
    "\n",
    "    def __getitem__(self, idx):\n",
    "        \"\"\"Loads and transforms image pair, returns (vit_input, cnn_input, label)\"\"\"\n",
    "        # Process RGB image for ViT\n",
    "        vit_img = Image.open(self.vit_image_paths[idx]).convert('RGB')\n",
    "        vit_tensor = self.vit_transform(vit_img)\n",
    "\n",
    "        # Process thermal image for CNN\n",
    "        cnn_img = Image.open(self.cnn_image_paths[idx])\n",
    "        cnn_tensor = self.cnn_transform(cnn_img)\n",
    "\n",
    "        # Convert label to tensor\n",
    "        label = torch.tensor(self.labels[idx], dtype=torch.float)\n",
    "\n",
    "        return vit_tensor, cnn_tensor, label"
   ],
   "id": "b0c77c01e7e6244e",
   "outputs": [],
   "execution_count": 60
  },
  {
   "metadata": {
    "ExecuteTime": {
     "end_time": "2025-07-25T16:24:50.809478Z",
     "start_time": "2025-07-25T16:24:50.794471Z"
    }
   },
   "cell_type": "code",
   "source": [
    "# Prepare multimodal datasets for fusion model training\n",
    "def prepare_fusion_data(vit_fire_dir, vit_non_fire_dir, cnn_fire_dir, cnn_non_fire_dir):\n",
    "    print(f\"\\n{'='*50}\")\n",
    "    print(\"Preparing multimodal fusion dataset\")\n",
    "    print(f\"ViT fire (RGB) directory: {vit_fire_dir}\")\n",
    "    print(f\"ViT non-fire (RGB) directory: {vit_non_fire_dir}\")\n",
    "    print(f\"CNN fire (thermal) directory: {cnn_fire_dir}\")\n",
    "    print(f\"CNN non-fire (thermal) directory: {cnn_non_fire_dir}\")\n",
    "\n",
    "    # Normalizes filenames for matching across modalities\n",
    "    def get_base_name(filename):\n",
    "        base = os.path.splitext(filename)[0]  # Remove extension\n",
    "        base = re.sub(r'^(RGB_|THERMAL_|IMG_|DSC_)', '', base)  # Remove prefixes\n",
    "        return re.sub(r'[^a-zA-Z0-9]', '', base).lower()  # Standardize format\n",
    "\n",
    "    # Process RGB images for ViT model\n",
    "    vit_mapping = {}\n",
    "    # Process fire RGB images\n",
    "    if os.path.isdir(vit_fire_dir):\n",
    "        print(f\"Processing ViT fire images\")\n",
    "        for filename in os.listdir(vit_fire_dir):\n",
    "            if not filename.lower().endswith(('.jpg', '.png', '.jpeg')):\n",
    "                continue\n",
    "            base_name = get_base_name(filename)\n",
    "            vit_mapping[base_name] = {\"path\": os.path.join(vit_fire_dir, filename), \"label\": 1}\n",
    "\n",
    "    # Process non-fire RGB images\n",
    "    if os.path.isdir(vit_non_fire_dir):\n",
    "        print(f\"Processing ViT non-fire images\")\n",
    "        for filename in os.listdir(vit_non_fire_dir):\n",
    "            if not filename.lower().endswith(('.jpg', '.png', '.jpeg')):\n",
    "                continue\n",
    "            base_name = get_base_name(filename)\n",
    "            vit_mapping[base_name] = {\"path\": os.path.join(vit_non_fire_dir, filename), \"label\": 0}\n",
    "\n",
    "    print(f\"ViT images found: {len(vit_mapping)}\")\n",
    "\n",
    "    # Process thermal images for CNN model\n",
    "    cnn_mapping = {}\n",
    "    # Process fire thermal images\n",
    "    if os.path.isdir(cnn_fire_dir):\n",
    "        print(f\"Processing CNN fire images\")\n",
    "        for filename in os.listdir(cnn_fire_dir):\n",
    "            if not filename.lower().endswith(('.jpg', '.png', '.jpeg')):\n",
    "                continue\n",
    "            base_name = get_base_name(filename)\n",
    "            cnn_mapping[base_name] = {\"path\": os.path.join(cnn_fire_dir, filename), \"label\": 1}\n",
    "\n",
    "    # Process non-fire thermal images\n",
    "    if os.path.isdir(cnn_non_fire_dir):\n",
    "        print(f\"Processing CNN non-fire images\")\n",
    "        for filename in os.listdir(cnn_non_fire_dir):\n",
    "            if not filename.lower().endswith(('.jpg', '.png', '.jpeg')):\n",
    "                continue\n",
    "            base_name = get_base_name(filename)\n",
    "            cnn_mapping[base_name] = {\"path\": os.path.join(cnn_non_fire_dir, filename), \"label\": 0}\n",
    "\n",
    "    print(f\"CNN images found: {len(cnn_mapping)}\")\n",
    "\n",
    "    # Match image pairs across modalities\n",
    "    matched_pairs = []\n",
    "    for key in set(vit_mapping.keys()) & set(cnn_mapping.keys()):  # Intersection of keys\n",
    "        vit_data = vit_mapping[key]\n",
    "        cnn_data = cnn_mapping[key]\n",
    "\n",
    "        # Verify consistent labeling\n",
    "        if vit_data[\"label\"] != cnn_data[\"label\"]:\n",
    "            print(f\"Label mismatch for {key}: ViT={vit_data['label']}, CNN={cnn_data['label']}\")\n",
    "            continue\n",
    "\n",
    "        matched_pairs.append((vit_data[\"path\"], cnn_data[\"path\"], vit_data[\"label\"]))\n",
    "\n",
    "    print(f\"Total matched pairs: {len(matched_pairs)}\")\n",
    "\n",
    "    # Analyze class distribution\n",
    "    fire_pairs = [p for p in matched_pairs if p[2] == 1]\n",
    "    non_fire_pairs = [p for p in matched_pairs if p[2] == 0]\n",
    "    print(f\"Fire pairs: {len(fire_pairs)}, Non-fire pairs: {len(non_fire_pairs)}\")\n",
    "\n",
    "    # Handle insufficient data scenarios\n",
    "    if not matched_pairs:\n",
    "        # Diagnostic output for debugging\n",
    "        print(\"\\nSample ViT keys:\", list(vit_mapping.keys())[:5])\n",
    "        print(\"Sample CNN keys:\", list(cnn_mapping.keys())[:5])\n",
    "        raise ValueError(\"No matching pairs found. Check filename patterns and directories.\")\n",
    "\n",
    "    # Balance classes if both present\n",
    "    if fire_pairs and non_fire_pairs:\n",
    "        n_per_class = min(len(fire_pairs), len(non_fire_pairs))\n",
    "        all_pairs = fire_pairs[:n_per_class] + non_fire_pairs[:n_per_class]\n",
    "        print(f\"Balanced dataset: {n_per_class} per class\")\n",
    "    else:\n",
    "        all_pairs = matched_pairs\n",
    "        print(\"Using all available pairs (single class)\")\n",
    "\n",
    "    # Shuffle dataset\n",
    "    np.random.shuffle(all_pairs)\n",
    "    vit_paths, cnn_paths, labels = zip(*all_pairs)  # Unzip pairs\n",
    "\n",
    "    # Stratified split into train/val/test (70/15/15)\n",
    "    train_idx, test_idx = train_test_split(\n",
    "        range(len(labels)),\n",
    "        test_size=0.2,\n",
    "        random_state=42,\n",
    "        stratify=labels\n",
    "    )\n",
    "    train_idx, val_idx = train_test_split(\n",
    "        train_idx,\n",
    "        test_size=0.25,\n",
    "        random_state=42,\n",
    "        stratify=[labels[i] for i in train_idx]\n",
    "    )\n",
    "\n",
    "    # Create split indices\n",
    "    vit_train = [vit_paths[i] for i in train_idx]\n",
    "    cnn_train = [cnn_paths[i] for i in train_idx]\n",
    "    train_labels = [labels[i] for i in train_idx]\n",
    "\n",
    "    vit_val = [vit_paths[i] for i in val_idx]\n",
    "    cnn_val = [cnn_paths[i] for i in val_idx]\n",
    "    val_labels = [labels[i] for i in val_idx]\n",
    "\n",
    "    vit_test = [vit_paths[i] for i in test_idx]\n",
    "    cnn_test = [cnn_paths[i] for i in test_idx]\n",
    "    test_labels = [labels[i] for i in test_idx]\n",
    "\n",
    "    # Dataset statistics\n",
    "    print(f\"\\nDataset splits:\")\n",
    "    print(f\"Train: {len(vit_train)} pairs\")\n",
    "    print(f\"Validation: {len(vit_val)} pairs\")\n",
    "    print(f\"Test: {len(vit_test)} pairs\")\n",
    "\n",
    "    # Transformation pipelines\n",
    "    # ViT (RGB) transforms\n",
    "    vit_train_transform = transforms.Compose([\n",
    "        transforms.Resize(256),\n",
    "        transforms.RandomResizedCrop(224),\n",
    "        transforms.RandomHorizontalFlip(),\n",
    "        transforms.RandomVerticalFlip(),\n",
    "        transforms.RandomRotation(15),\n",
    "        transforms.ColorJitter(brightness=0.2, contrast=0.2, saturation=0.2),\n",
    "        transforms.RandomAffine(degrees=0, translate=(0.1, 0.1)),\n",
    "        transforms.ToTensor(),\n",
    "        transforms.Normalize(mean=[0.485, 0.456, 0.406], std=[0.229, 0.224, 0.225])\n",
    "    ])\n",
    "\n",
    "    vit_eval_transform = transforms.Compose([\n",
    "        transforms.Resize(256),\n",
    "        transforms.CenterCrop(224),\n",
    "        transforms.ToTensor(),\n",
    "        transforms.Normalize(mean=[0.485, 0.456, 0.406], std=[0.229, 0.224, 0.225])\n",
    "    ])\n",
    "\n",
    "    # CNN (thermal) transforms\n",
    "    cnn_train_transform = v2.Compose([\n",
    "        v2.RandomResizedCrop(size=(224, 224)),\n",
    "        v2.RandomHorizontalFlip(p=0.5),\n",
    "        v2.ToImage(),\n",
    "        v2.ToDtype(torch.float32, scale=True),\n",
    "        v2.Grayscale(num_output_channels=1),\n",
    "        v2.Normalize(mean=[0.5], std=[0.5]),\n",
    "    ])\n",
    "\n",
    "    cnn_eval_transform = v2.Compose([\n",
    "        v2.Resize(size=(224, 224)),\n",
    "        v2.ToImage(),\n",
    "        v2.ToDtype(torch.float32, scale=True),\n",
    "        v2.Grayscale(num_output_channels=1),\n",
    "        v2.Normalize(mean=[0.5], std=[0.5]),\n",
    "    ])\n",
    "\n",
    "    # Create datasets\n",
    "    train_dataset = DualInputDataset(\n",
    "        vit_train, cnn_train, train_labels,\n",
    "        vit_train_transform, cnn_train_transform\n",
    "    )\n",
    "    val_dataset = DualInputDataset(\n",
    "        vit_val, cnn_val, val_labels,\n",
    "        vit_eval_transform, cnn_eval_transform\n",
    "    )\n",
    "    test_dataset = DualInputDataset(\n",
    "        vit_test, cnn_test, test_labels,\n",
    "        vit_eval_transform, cnn_eval_transform\n",
    "    )\n",
    "\n",
    "    # Create dataloaders\n",
    "    batch_size = 16\n",
    "    train_dataloader = DataLoader(train_dataset, batch_size=batch_size,\n",
    "                                 shuffle=True, num_workers=4)\n",
    "    val_dataloader = DataLoader(val_dataset, batch_size=batch_size, num_workers=4)\n",
    "    test_dataloader = DataLoader(test_dataset, batch_size=batch_size, num_workers=4)\n",
    "\n",
    "    return train_dataloader, val_dataloader, test_dataloader"
   ],
   "id": "4e4bfdc91b7b5af6",
   "outputs": [],
   "execution_count": 68
  },
  {
   "metadata": {},
   "cell_type": "markdown",
   "source": "### NN Model",
   "id": "d57682336d9ebf71"
  },
  {
   "metadata": {
    "ExecuteTime": {
     "end_time": "2025-07-25T16:52:45.992927Z",
     "start_time": "2025-07-25T16:52:45.972185Z"
    }
   },
   "cell_type": "code",
   "source": [
    "# Fusion Model combining ViT and CNN features\n",
    "class FusionModel(pl.LightningModule):\n",
    "    def __init__(self, vit_extractor, cnn_extractor, config=None, visuals=True):\n",
    "        \"\"\"\n",
    "        Multimodal fusion model combining ViT (RGB) and CNN (thermal) features.\n",
    "\n",
    "        Args:\n",
    "            vit_extractor: Pretrained ViT feature extractor\n",
    "            cnn_extractor: Pretrained CNN feature extractor\n",
    "            config: Configuration dictionary for hyperparameters\n",
    "            visuals: Enable advanced visualization metrics\n",
    "        \"\"\"\n",
    "        super().__init__()\n",
    "        # Configuration setup\n",
    "        default_config = {\n",
    "            \"lr\": 1e-3,              # Learning rate\n",
    "            \"weight_decay\": 1e-4,      # L2 regularization\n",
    "            \"dropout_rate\": 0.4,       # Dropout probability\n",
    "            \"hidden_dim\": 512,         # Fusion layer dimension\n",
    "            \"pos_weight\": 1.0          # Class imbalance weight\n",
    "        }\n",
    "        if config:\n",
    "            default_config.update(config)  # Merge with user config\n",
    "        self.config = default_config\n",
    "\n",
    "        # Visualization settings\n",
    "        self.visuals = visuals\n",
    "        self.save_hyperparameters(ignore=[\"vit_extractor\", \"cnn_extractor\"])\n",
    "\n",
    "        # Feature extractors (frozen)\n",
    "        self.vit_extractor = vit_extractor\n",
    "        self.cnn_extractor = cnn_extractor\n",
    "\n",
    "        # Freeze extractors to preserve learned features\n",
    "        for param in self.vit_extractor.parameters():\n",
    "            param.requires_grad = False\n",
    "        for param in self.cnn_extractor.parameters():\n",
    "            param.requires_grad = False\n",
    "\n",
    "        # Fusion classifier network\n",
    "        self.classifier = nn.Sequential(\n",
    "            nn.Linear(768 + 512, self.config[\"hidden_dim\"]),  # Combine features\n",
    "            nn.ReLU(),                                        # Non-linearity\n",
    "            nn.BatchNorm1d(self.config[\"hidden_dim\"]),        # Stabilization\n",
    "            nn.Dropout(self.config[\"dropout_rate\"]),          # Regularization\n",
    "            nn.Linear(self.config[\"hidden_dim\"], 1)           # Binary output\n",
    "        )\n",
    "\n",
    "        # Loss function with class weighting\n",
    "        self.criterion = nn.BCEWithLogitsLoss(\n",
    "            pos_weight=torch.tensor(self.config[\"pos_weight\"])\n",
    "        )\n",
    "\n",
    "        # Core metrics\n",
    "        self.train_acc = Accuracy(task='binary')\n",
    "        self.val_acc = Accuracy(task='binary')\n",
    "        self.test_acc = Accuracy(task='binary')\n",
    "\n",
    "        self.train_acc_history = []  # Store training accuracy per epoch\n",
    "        self.val_acc_history = []    # Store validation accuracy per epoch\n",
    "\n",
    "        # Advanced metrics for visualization\n",
    "        if self.visuals:\n",
    "            # F1 Scores\n",
    "            self.train_f1 = F1Score(task='binary')\n",
    "            self.val_f1 = F1Score(task='binary')\n",
    "            self.test_f1 = F1Score(task='binary')\n",
    "\n",
    "            # Precision metrics\n",
    "            self.train_precision = Precision(task='binary')\n",
    "            self.val_precision = Precision(task='binary')\n",
    "            self.test_precision = Precision(task='binary')\n",
    "\n",
    "            # Recall metrics\n",
    "            self.train_recall = Recall(task='binary')\n",
    "            self.val_recall = Recall(task='binary')\n",
    "            self.test_recall = Recall(task='binary')\n",
    "\n",
    "        # Storage for test visualizations\n",
    "        self.test_preds = []    # Predicted labels\n",
    "        self.test_targets = []  # Ground truth labels\n",
    "        self.test_probs = []    # Prediction probabilities\n",
    "\n",
    "    def forward(self, vit_input, cnn_input):\n",
    "        \"\"\"Forward pass through both feature extractors and fusion classifier\"\"\"\n",
    "        # Extract features from both modalities\n",
    "        vit_features = self.vit_extractor(vit_input)  # RGB features (768-dim)\n",
    "        _, cnn_features = self.cnn_extractor(cnn_input, return_features=True)  # Thermal features (512-dim)\n",
    "\n",
    "        # Concatenate features along channel dimension\n",
    "        combined = torch.cat((vit_features, cnn_features), dim=1)\n",
    "        return self.classifier(combined).squeeze(1)  # Remove extra dimension\n",
    "\n",
    "    def training_step(self, batch, batch_idx):\n",
    "        \"\"\"Single training step with metrics calculation\"\"\"\n",
    "        vit_imgs, cnn_imgs, labels = batch\n",
    "        logits = self(vit_imgs, cnn_imgs)  # Forward pass\n",
    "        loss = self.criterion(logits, labels)  # Compute loss\n",
    "\n",
    "        # Convert to probabilities and predictions\n",
    "        probs = torch.sigmoid(logits)\n",
    "        preds = probs > 0.5  # Threshold at 0.5\n",
    "\n",
    "        # Update metrics\n",
    "        self.train_acc(preds, labels)\n",
    "        if self.visuals:\n",
    "            self.train_f1(preds, labels)\n",
    "            self.train_precision(preds, labels)\n",
    "            self.train_recall(preds, labels)\n",
    "\n",
    "        # Log metrics\n",
    "        self.log(\"train_loss\", loss, on_step=True, on_epoch=True, prog_bar=True)\n",
    "        self.log(\"train_acc\", self.train_acc, on_step=False, on_epoch=True, prog_bar=True)\n",
    "        if self.visuals:\n",
    "            self.log(\"train_f1\", self.train_f1, on_step=False, on_epoch=True, prog_bar=True)\n",
    "            self.log(\"train_precision\", self.train_precision, on_step=False, on_epoch=True)\n",
    "            self.log(\"train_recall\", self.train_recall, on_step=False, on_epoch=True)\n",
    "\n",
    "        return loss\n",
    "\n",
    "    def validation_step(self, batch, batch_idx):\n",
    "        \"\"\"Validation step with metrics calculation\"\"\"\n",
    "        vit_imgs, cnn_imgs, labels = batch\n",
    "        logits = self(vit_imgs, cnn_imgs)\n",
    "        loss = self.criterion(logits, labels)\n",
    "        probs = torch.sigmoid(logits)\n",
    "        preds = probs > 0.5\n",
    "\n",
    "        # Update metrics\n",
    "        self.val_acc(preds, labels)\n",
    "        if self.visuals:\n",
    "            self.val_f1(preds, labels)\n",
    "            self.val_precision(preds, labels)\n",
    "            self.val_recall(preds, labels)\n",
    "\n",
    "        # Log metrics\n",
    "        self.log(\"val_loss\", loss, on_epoch=True, prog_bar=True)\n",
    "        self.log(\"val_acc\", self.val_acc, on_epoch=True, prog_bar=True)\n",
    "        if self.visuals:\n",
    "            self.log(\"val_f1\", self.val_f1, on_epoch=True, prog_bar=True)\n",
    "            self.log(\"val_precision\", self.val_precision, on_epoch=True)\n",
    "            self.log(\"val_recall\", self.val_recall, on_epoch=True)\n",
    "\n",
    "        return loss\n",
    "\n",
    "    def test_step(self, batch, batch_idx):\n",
    "        \"\"\"Test step with metrics and data collection for visualization\"\"\"\n",
    "        vit_imgs, cnn_imgs, labels = batch\n",
    "        logits = self(vit_imgs, cnn_imgs)\n",
    "        loss = self.criterion(logits, labels)\n",
    "        probs = torch.sigmoid(logits)\n",
    "        preds = probs > 0.5\n",
    "\n",
    "        # Update metrics\n",
    "        self.test_acc(preds, labels)\n",
    "        if self.visuals:\n",
    "            self.test_f1(preds, labels)\n",
    "            self.test_precision(preds, labels)\n",
    "            self.test_recall(preds, labels)\n",
    "\n",
    "            # Store for visualization\n",
    "            self.test_preds.extend(preds.cpu().numpy())\n",
    "            self.test_targets.extend(labels.cpu().numpy())\n",
    "            self.test_probs.extend(probs.cpu().numpy())\n",
    "\n",
    "        # Log metrics\n",
    "        self.log(\"test_loss\", loss, on_epoch=True)\n",
    "        self.log(\"test_acc\", self.test_acc, on_epoch=True)\n",
    "        if self.visuals:\n",
    "            self.log(\"test_f1\", self.test_f1, on_epoch=True)\n",
    "            self.log(\"test_precision\", self.test_precision, on_epoch=True)\n",
    "            self.log(\"test_recall\", self.test_recall, on_epoch=True)\n",
    "\n",
    "        return loss\n",
    "\n",
    "    def on_train_epoch_end(self):\n",
    "        \"\"\"Record training and validation accuracy at epoch end\"\"\"\n",
    "        self.train_acc_history.append(self.trainer.callback_metrics[\"train_acc\"].item())\n",
    "        self.val_acc_history.append(self.trainer.callback_metrics[\"val_acc\"].item())\n",
    "\n",
    "    def on_train_end(self):\n",
    "        \"\"\"Generate accuracy history plot after training completes\"\"\"\n",
    "        if self.visuals and self.train_acc_history and self.val_acc_history:\n",
    "            self.plot_accuracy_history()\n",
    "\n",
    "    def plot_accuracy_history(self):\n",
    "        \"\"\"Plot training and validation accuracy over epochs\"\"\"\n",
    "        plt.figure(figsize=(10, 6))\n",
    "        epochs = range(1, len(self.train_acc_history) + 1)\n",
    "\n",
    "        # Plot training and validation accuracy\n",
    "        plt.plot(epochs, self.train_acc_history, 'bo-', label='Training Accuracy')\n",
    "        plt.plot(epochs, self.val_acc_history, 'go-', label='Validation Accuracy')\n",
    "\n",
    "        # Format plot\n",
    "        plt.title('Training and Validation Accuracy')\n",
    "        plt.xlabel('Epochs')\n",
    "        plt.ylabel('Accuracy')\n",
    "        plt.ylim(0, 1.05)  # Ensure accuracy range is visible\n",
    "        plt.legend()\n",
    "        plt.grid(True)\n",
    "\n",
    "        # Save and show\n",
    "        plt.savefig(\"Figures/accuracy_history.png\")\n",
    "        plt.show()\n",
    "\n",
    "    def on_test_end(self):\n",
    "        \"\"\"Generate evaluation visualizations after testing completes\"\"\"\n",
    "        if self.visuals and self.test_targets:\n",
    "            self.generate_visualizations()\n",
    "            # Clear stored data\n",
    "            self.test_preds = []\n",
    "            self.test_targets = []\n",
    "            self.test_probs = []\n",
    "\n",
    "    def generate_visualizations(self):\n",
    "        \"\"\"Create comprehensive evaluation plots and reports\"\"\"\n",
    "        y_true = np.array(self.test_targets)\n",
    "        y_pred = np.array(self.test_preds)\n",
    "        y_probs = np.array(self.test_probs)\n",
    "\n",
    "        # 1. Classification Report\n",
    "        print(\"\\n\" + \"=\"*50)\n",
    "        print(\"Classification Report:\")\n",
    "        print(classification_report(y_true, y_pred, target_names=[\"Non-Fire\", \"Fire\"]))\n",
    "\n",
    "        # 2. Confusion Matrix\n",
    "        cm = confusion_matrix(y_true, y_pred)\n",
    "        plt.figure(figsize=(8, 6))\n",
    "        sns.heatmap(cm, annot=True, fmt='d', cmap='Blues',\n",
    "                    xticklabels=['Non-Fire', 'Fire'],\n",
    "                    yticklabels=['Non-Fire', 'Fire'])\n",
    "        plt.xlabel('Predicted')\n",
    "        plt.ylabel('Actual')\n",
    "        plt.title('Confusion Matrix')\n",
    "        plt.savefig(\"Figures/confusion_matrix.png\")\n",
    "        plt.show()\n",
    "\n",
    "        # 3. ROC Curve\n",
    "        fpr, tpr, _ = roc_curve(y_true, y_probs)\n",
    "        roc_auc = auc(fpr, tpr)\n",
    "        plt.figure(figsize=(8, 6))\n",
    "        plt.plot(fpr, tpr, color='darkorange', lw=2,\n",
    "                 label=f'ROC curve (AUC = {roc_auc:.2f})')\n",
    "        plt.plot([0, 1], [0, 1], color='navy', lw=2, linestyle='--')\n",
    "        plt.xlim([0.0, 1.0])\n",
    "        plt.ylim([0.0, 1.05])\n",
    "        plt.xlabel('False Positive Rate')\n",
    "        plt.ylabel('True Positive Rate')\n",
    "        plt.title('Receiver Operating Characteristic')\n",
    "        plt.legend(loc=\"lower right\")\n",
    "        plt.savefig(\"Figures/roc_curve.png\")\n",
    "        plt.show()\n",
    "\n",
    "        # 4. Precision-Recall Curve\n",
    "        precision, recall, _ = precision_recall_curve(y_true, y_probs)\n",
    "        avg_precision = np.mean(precision)\n",
    "        plt.figure(figsize=(8, 6))\n",
    "        plt.plot(recall, precision, color='blue', lw=2,\n",
    "                 label=f'Precision-Recall (Avg Precision = {avg_precision:.2f})')\n",
    "        plt.xlabel('Recall')\n",
    "        plt.ylabel('Precision')\n",
    "        plt.title('Precision-Recall Curve')\n",
    "        plt.legend(loc=\"lower left\")\n",
    "        plt.savefig(\"Figures/precision_recall_curve.png\")\n",
    "        plt.show()\n",
    "\n",
    "        # 5. Probability Distribution\n",
    "        plt.figure(figsize=(10, 6))\n",
    "        df = pd.DataFrame({\n",
    "            'Probability': y_probs,\n",
    "            'Class': ['Fire' if t == 1 else 'Non-Fire' for t in y_true]\n",
    "        })\n",
    "        sns.histplot(\n",
    "            data=df,\n",
    "            x='Probability', hue='Class', element='step', stat='density',\n",
    "            common_norm=False, bins=20, palette=['red', 'green']\n",
    "        )\n",
    "        plt.title('Predicted Probability Distribution')\n",
    "        plt.axvline(0.5, color='black', linestyle='--')\n",
    "        plt.savefig(\"Figures/probability_distribution.png\")\n",
    "        plt.show()\n",
    "\n",
    "    def configure_optimizers(self):\n",
    "        \"\"\"Configure optimizer and learning rate scheduler\"\"\"\n",
    "        optimizer = torch.optim.AdamW(\n",
    "            self.classifier.parameters(),  # Only optimize fusion classifier\n",
    "            lr=self.config[\"lr\"],\n",
    "            weight_decay=self.config[\"weight_decay\"]\n",
    "        )\n",
    "\n",
    "        # Learning rate scheduler (monitors validation accuracy)\n",
    "        scheduler = torch.optim.lr_scheduler.ReduceLROnPlateau(\n",
    "            optimizer,\n",
    "            mode='max',       # Maximize validation accuracy\n",
    "            factor=0.5,       # Reduce LR by half\n",
    "            patience=3,       # Wait 3 epochs without improvement\n",
    "        )\n",
    "\n",
    "        return {\n",
    "            \"optimizer\": optimizer,\n",
    "            \"lr_scheduler\": {\n",
    "                \"scheduler\": scheduler,\n",
    "                \"monitor\": \"val_acc\",  # Track validation accuracy\n",
    "                \"frequency\": 1          # Check every epoch\n",
    "            }\n",
    "        }"
   ],
   "id": "d6b3f4fc0dbb1ff0",
   "outputs": [],
   "execution_count": 76
  },
  {
   "metadata": {},
   "cell_type": "markdown",
   "source": "### Training function",
   "id": "a5cdef43bbacd3d9"
  },
  {
   "metadata": {
    "ExecuteTime": {
     "end_time": "2025-07-25T16:18:40.500948Z",
     "start_time": "2025-07-25T16:18:40.496294Z"
    }
   },
   "cell_type": "code",
   "source": [
    "# Training function for multimodal fusion model\n",
    "def train_fusion_model(vit_extractor, cnn_extractor, vit_fire_dir, vit_non_fire_dir,\n",
    "                      cnn_fire_dir, cnn_non_fire_dir, max_epochs, config=None,\n",
    "                      visuals=True):\n",
    "    \"\"\"\n",
    "    End-to-end training pipeline for multimodal fusion model.\n",
    "\n",
    "    Args:\n",
    "        vit_extractor: Pretrained ViT feature extractor\n",
    "        cnn_extractor: Pretrained CNN feature extractor\n",
    "        vit_fire_dir: Directory of fire RGB images\n",
    "        vit_non_fire_dir: Directory of non-fire RGB images\n",
    "        cnn_fire_dir: Directory of fire thermal images\n",
    "        cnn_non_fire_dir: Directory of non-fire thermal images\n",
    "        max_epochs: Maximum training epochs\n",
    "        config: Hyperparameter configuration dictionary\n",
    "        visuals: Enable advanced evaluation metrics\n",
    "\n",
    "    Returns:\n",
    "        model: Trained fusion model\n",
    "        test_results: Test performance metrics\n",
    "    \"\"\"\n",
    "    # Prepare multimodal datasets\n",
    "    print(\"\\nPreparing fusion datasets...\")\n",
    "    train_loader, val_loader, test_loader = prepare_fusion_data(\n",
    "        vit_fire_dir, vit_non_fire_dir, cnn_fire_dir, cnn_non_fire_dir\n",
    "    )\n",
    "\n",
    "    # Initialize fusion model\n",
    "    print(\"Initializing fusion model...\")\n",
    "    model = FusionModel(\n",
    "        vit_extractor=vit_extractor,\n",
    "        cnn_extractor=cnn_extractor,\n",
    "        config=config,\n",
    "        visuals=visuals\n",
    "    )\n",
    "\n",
    "    # Configure training callbacks\n",
    "    callbacks = [\n",
    "        # Early stopping based on validation accuracy\n",
    "        pl.callbacks.EarlyStopping(\n",
    "            monitor=\"val_acc\",\n",
    "            patience=5,\n",
    "            mode=\"max\",\n",
    "            verbose=True\n",
    "        ),\n",
    "        # Model checkpointing\n",
    "        pl.callbacks.ModelCheckpoint(\n",
    "            monitor=\"val_acc\",\n",
    "            mode=\"max\",\n",
    "            filename=\"best_fusion_model\"\n",
    "        )\n",
    "    ]\n",
    "\n",
    "    # Create PyTorch Lightning trainer\n",
    "    trainer = pl.Trainer(\n",
    "        max_epochs=max_epochs,\n",
    "        accelerator=\"auto\",        # Automatic hardware selection\n",
    "        devices=\"auto\",            # Use available devices\n",
    "        log_every_n_steps=5,       # Log metrics every 5 batches\n",
    "        callbacks=callbacks,\n",
    "        enable_progress_bar=True\n",
    "    )\n",
    "\n",
    "    # Train the model\n",
    "    print(\"\\nStarting fusion model training...\")\n",
    "    trainer.fit(model, train_loader, val_loader)\n",
    "\n",
    "    # Evaluate on test set\n",
    "    print(\"\\nEvaluating on test set...\")\n",
    "    test_results = trainer.test(model, test_loader)\n",
    "\n",
    "    return model, test_results"
   ],
   "id": "3618693e1a3a69ae",
   "outputs": [],
   "execution_count": 63
  },
  {
   "metadata": {},
   "cell_type": "markdown",
   "source": "## Multi-Model",
   "id": "44a64dab6dca6cfd"
  },
  {
   "metadata": {},
   "cell_type": "markdown",
   "source": "### Model",
   "id": "d2d569b3b29ba5eb"
  },
  {
   "metadata": {
    "ExecuteTime": {
     "end_time": "2025-07-25T16:18:42.945062Z",
     "start_time": "2025-07-25T16:18:42.939753Z"
    }
   },
   "cell_type": "code",
   "source": [
    "# Deployment class for real-time fire prediction\n",
    "class FirePredictor:\n",
    "    def __init__(self, fusion_model, vit_extractor, cnn_extractor):\n",
    "        \"\"\"\n",
    "        Fire detection predictor for multimodal (RGB + thermal) inputs.\n",
    "\n",
    "        Args:\n",
    "            fusion_model: Trained fusion model\n",
    "            vit_extractor: ViT feature extractor for RGB images\n",
    "            cnn_extractor: CNN feature extractor for thermal images\n",
    "        \"\"\"\n",
    "        self.fusion_model = fusion_model\n",
    "        self.vit_extractor = vit_extractor\n",
    "        self.cnn_extractor = cnn_extractor\n",
    "\n",
    "        # Preprocessing for RGB images (ViT input)\n",
    "        self.vit_transform = transforms.Compose([\n",
    "            transforms.Resize(256),          # Resize to standard size\n",
    "            transforms.CenterCrop(224),      # Center crop to model input size\n",
    "            transforms.ToTensor(),           # Convert to tensor\n",
    "            transforms.Normalize(            # ImageNet normalization\n",
    "                mean=[0.485, 0.456, 0.406],\n",
    "                std=[0.229, 0.224, 0.225]\n",
    "            )\n",
    "        ])\n",
    "\n",
    "        # Preprocessing for thermal images (CNN input)\n",
    "        self.cnn_transform = v2.Compose([\n",
    "            v2.Resize(size=(224, 224)),     # Resize to model input size\n",
    "            v2.ToImage(),                    # Convert to tensor\n",
    "            v2.ToDtype(torch.float32, scale=True),  # Normalize to [0,1]\n",
    "            v2.Grayscale(num_output_channels=1),     # Ensure single channel\n",
    "            v2.Normalize(mean=[0.5], std=[0.5]),    # Scale to [-1,1]\n",
    "        ])\n",
    "\n",
    "    def predict(self, vit_image_path, cnn_image_path):\n",
    "        \"\"\"\n",
    "        Predicts fire probability from paired RGB and thermal images.\n",
    "\n",
    "        Args:\n",
    "            vit_image_path: Path to RGB image file\n",
    "            cnn_image_path: Path to thermal image file\n",
    "\n",
    "        Returns:\n",
    "            prediction: \"Fire\" or \"Not Fire\"\n",
    "            probability: Confidence score (0.0-1.0)\n",
    "        \"\"\"\n",
    "        self.fusion_model.eval()  # Set to evaluation mode\n",
    "\n",
    "        # Process RGB image\n",
    "        vit_img = Image.open(vit_image_path).convert('RGB')\n",
    "        vit_tensor = self.vit_transform(vit_img).unsqueeze(0)  # Add batch dimension\n",
    "\n",
    "        # Process thermal image\n",
    "        cnn_img = Image.open(cnn_image_path)\n",
    "        cnn_tensor = self.cnn_transform(cnn_img).unsqueeze(0)  # Add batch dimension\n",
    "\n",
    "        # Make prediction\n",
    "        with torch.no_grad():\n",
    "            logits = self.fusion_model(vit_tensor, cnn_tensor)\n",
    "            prob = torch.sigmoid(logits).item()  # Convert to probability\n",
    "            prediction = \"Fire\" if prob > 0.5 else \"Not Fire\"\n",
    "\n",
    "        return prediction, prob"
   ],
   "id": "c9f78c2158d72c31",
   "outputs": [],
   "execution_count": 64
  },
  {
   "metadata": {},
   "cell_type": "markdown",
   "source": "### Training",
   "id": "f8d1e12994e3295f"
  },
  {
   "metadata": {
    "ExecuteTime": {
     "end_time": "2025-07-25T16:54:22.124445Z",
     "start_time": "2025-07-25T16:52:49.380852Z"
    }
   },
   "cell_type": "code",
   "source": [
    "# Initialize feature extractors (load with trained weights)\n",
    "print(\"Loading pretrained feature extractors...\")\n",
    "# Load ViT extractor from Lightning checkpoint\n",
    "vit_extractor = FireFeatureExtractorViT.load_from_checkpoint(\"Saved_Features/ViT_fire_feature_extractor.pth\")\n",
    "\n",
    "# Initialize CNN extractor and load weights\n",
    "cnn_extractor = FireFeatureExtractorCNN()\n",
    "cnn_extractor.load_state_dict(\n",
    "    torch.load(\"Saved_Features/CNN_fire_feature_extractor.pth\"),\n",
    "    strict=False  # Ignore classifier weights\n",
    ")\n",
    "\n",
    "# Remove classifier from CNN model\n",
    "cnn_extractor.classifier = nn.Identity()  # Replace classifier with identity function\n",
    "\n",
    "# Set both models to evaluation mode\n",
    "vit_extractor.eval()\n",
    "cnn_extractor.eval()\n",
    "print(\"Feature extractors loaded and ready\")\n",
    "\n",
    "# Fusion model configuration\n",
    "config = {\n",
    "    \"lr\": 5e-4,          # Learning rate\n",
    "    \"hidden_dim\": 768,    # Hidden layer dimension\n",
    "    \"dropout_rate\": 0.2,  # Dropout probability\n",
    "    \"pos_weight\": 1.0     # Class imbalance weight\n",
    "}\n",
    "\n",
    "# Dataset paths\n",
    "vit_fire_dir = \"dataset/RGB/fire\"\n",
    "vit_non_fire_dir = \"dataset/RGB/no_fire\"\n",
    "cnn_fire_dir = \"dataset/thermal/fire\"\n",
    "cnn_non_fire_dir = \"dataset/thermal/no_fire\"\n",
    "\n",
    "# Train fusion model\n",
    "print(\"\\nTraining fusion model...\")\n",
    "fusion_model, results = train_fusion_model(\n",
    "    vit_extractor,\n",
    "    cnn_extractor,\n",
    "    vit_fire_dir,\n",
    "    vit_non_fire_dir,\n",
    "    cnn_fire_dir,\n",
    "    cnn_non_fire_dir,\n",
    "    max_epochs=20,\n",
    "    config=config,\n",
    "    visuals=True  # Enable advanced visualizations\n",
    ")\n",
    "\n",
    "# Save model weights\n",
    "fusion_model.eval()\n",
    "torch.save(fusion_model.state_dict(), \"Saved_Features/fusion_model_weights.pth\")\n",
    "print(\"Fusion model weights saved\")\n",
    "\n",
    "# Initialize predictor for deployment\n",
    "predictor = FirePredictor(fusion_model, vit_extractor, cnn_extractor)\n",
    "print(\"Fire predictor initialized and ready for deployment\")"
   ],
   "id": "892cc9e7deee668b",
   "outputs": [
    {
     "name": "stdout",
     "output_type": "stream",
     "text": [
      "Loading pretrained feature extractors...\n"
     ]
    },
    {
     "name": "stderr",
     "output_type": "stream",
     "text": [
      "GPU available: True (cuda), used: True\n",
      "TPU available: False, using: 0 TPU cores\n",
      "HPU available: False, using: 0 HPUs\n",
      "LOCAL_RANK: 0 - CUDA_VISIBLE_DEVICES: [0]\n",
      "\n",
      "   | Name            | Type                    | Params | Mode \n",
      "---------------------------------------------------------------------\n",
      "0  | vit_extractor   | FireFeatureExtractorViT | 86.0 M | eval \n",
      "1  | cnn_extractor   | FireFeatureExtractorCNN | 4.2 M  | eval \n",
      "2  | classifier      | Sequential              | 986 K  | train\n",
      "3  | criterion       | BCEWithLogitsLoss       | 0      | train\n",
      "4  | train_acc       | BinaryAccuracy          | 0      | train\n",
      "5  | val_acc         | BinaryAccuracy          | 0      | train\n",
      "6  | test_acc        | BinaryAccuracy          | 0      | train\n",
      "7  | train_f1        | BinaryF1Score           | 0      | train\n",
      "8  | val_f1          | BinaryF1Score           | 0      | train\n",
      "9  | test_f1         | BinaryF1Score           | 0      | train\n",
      "10 | train_precision | BinaryPrecision         | 0      | train\n",
      "11 | val_precision   | BinaryPrecision         | 0      | train\n",
      "12 | test_precision  | BinaryPrecision         | 0      | train\n",
      "13 | train_recall    | BinaryRecall            | 0      | train\n",
      "14 | val_recall      | BinaryRecall            | 0      | train\n",
      "15 | test_recall     | BinaryRecall            | 0      | train\n",
      "---------------------------------------------------------------------\n",
      "986 K     Trainable params\n",
      "90.2 M    Non-trainable params\n",
      "91.1 M    Total params\n",
      "364.570   Total estimated model params size (MB)\n",
      "19        Modules in train mode\n",
      "384       Modules in eval mode\n"
     ]
    },
    {
     "name": "stdout",
     "output_type": "stream",
     "text": [
      "Feature extractors loaded and ready\n",
      "\n",
      "Training fusion model...\n",
      "\n",
      "Preparing fusion datasets...\n",
      "\n",
      "==================================================\n",
      "Preparing multimodal fusion dataset\n",
      "ViT fire (RGB) directory: dataset/RGB/fire\n",
      "ViT non-fire (RGB) directory: dataset/RGB/no_fire\n",
      "CNN fire (thermal) directory: dataset/thermal/fire\n",
      "CNN non-fire (thermal) directory: dataset/thermal/no_fire\n",
      "Processing ViT fire images\n",
      "Processing ViT non-fire images\n",
      "ViT images found: 529\n",
      "Processing CNN fire images\n",
      "Processing CNN non-fire images\n",
      "CNN images found: 417\n",
      "Total matched pairs: 417\n",
      "Fire pairs: 301, Non-fire pairs: 116\n",
      "Balanced dataset: 116 per class\n",
      "\n",
      "Dataset splits:\n",
      "Train: 138 pairs\n",
      "Validation: 47 pairs\n",
      "Test: 47 pairs\n",
      "Initializing fusion model...\n",
      "\n",
      "Starting fusion model training...\n"
     ]
    },
    {
     "data": {
      "text/plain": [
       "Sanity Checking: |          | 0/? [00:00<?, ?it/s]"
      ],
      "application/vnd.jupyter.widget-view+json": {
       "version_major": 2,
       "version_minor": 0,
       "model_id": "f8af2d2ebd954002aa991fb02a5e7a49"
      }
     },
     "metadata": {},
     "output_type": "display_data"
    },
    {
     "data": {
      "text/plain": [
       "Training: |          | 0/? [00:00<?, ?it/s]"
      ],
      "application/vnd.jupyter.widget-view+json": {
       "version_major": 2,
       "version_minor": 0,
       "model_id": "474c8feeb6be4c1d85c2275682a6f6aa"
      }
     },
     "metadata": {},
     "output_type": "display_data"
    },
    {
     "data": {
      "text/plain": [
       "Validation: |          | 0/? [00:00<?, ?it/s]"
      ],
      "application/vnd.jupyter.widget-view+json": {
       "version_major": 2,
       "version_minor": 0,
       "model_id": "c56fb2da827046728eae6271cca26b0b"
      }
     },
     "metadata": {},
     "output_type": "display_data"
    },
    {
     "name": "stderr",
     "output_type": "stream",
     "text": [
      "Metric val_acc improved. New best score: 1.000\n"
     ]
    },
    {
     "data": {
      "text/plain": [
       "Validation: |          | 0/? [00:00<?, ?it/s]"
      ],
      "application/vnd.jupyter.widget-view+json": {
       "version_major": 2,
       "version_minor": 0,
       "model_id": "319a4c538f5e4e669c65d3b9fc0afd15"
      }
     },
     "metadata": {},
     "output_type": "display_data"
    },
    {
     "data": {
      "text/plain": [
       "Validation: |          | 0/? [00:00<?, ?it/s]"
      ],
      "application/vnd.jupyter.widget-view+json": {
       "version_major": 2,
       "version_minor": 0,
       "model_id": "04ff9f10b7634867beb899b39aa99534"
      }
     },
     "metadata": {},
     "output_type": "display_data"
    },
    {
     "data": {
      "text/plain": [
       "Validation: |          | 0/? [00:00<?, ?it/s]"
      ],
      "application/vnd.jupyter.widget-view+json": {
       "version_major": 2,
       "version_minor": 0,
       "model_id": "0d572941993746d99b43e74f529f2524"
      }
     },
     "metadata": {},
     "output_type": "display_data"
    },
    {
     "data": {
      "text/plain": [
       "Validation: |          | 0/? [00:00<?, ?it/s]"
      ],
      "application/vnd.jupyter.widget-view+json": {
       "version_major": 2,
       "version_minor": 0,
       "model_id": "24e61e0db6b34fbda0e998ecc43e3d1e"
      }
     },
     "metadata": {},
     "output_type": "display_data"
    },
    {
     "data": {
      "text/plain": [
       "Validation: |          | 0/? [00:00<?, ?it/s]"
      ],
      "application/vnd.jupyter.widget-view+json": {
       "version_major": 2,
       "version_minor": 0,
       "model_id": "02ddb72598e843f8948931ce81a4020e"
      }
     },
     "metadata": {},
     "output_type": "display_data"
    },
    {
     "name": "stderr",
     "output_type": "stream",
     "text": [
      "Monitored metric val_acc did not improve in the last 5 records. Best score: 1.000. Signaling Trainer to stop.\n"
     ]
    },
    {
     "data": {
      "text/plain": [
       "<Figure size 1000x600 with 1 Axes>"
      ],
      "image/png": "[encoded data removed]"
     },
     "metadata": {},
     "output_type": "display_data"
    },
    {
     "name": "stderr",
     "output_type": "stream",
     "text": [
      "LOCAL_RANK: 0 - CUDA_VISIBLE_DEVICES: [0]\n"
     ]
    },
    {
     "name": "stdout",
     "output_type": "stream",
     "text": [
      "\n",
      "Evaluating on test set...\n"
     ]
    },
    {
     "data": {
      "text/plain": [
       "Testing: |          | 0/? [00:00<?, ?it/s]"
      ],
      "application/vnd.jupyter.widget-view+json": {
       "version_major": 2,
       "version_minor": 0,
       "model_id": "6b97f09382144602841f011ee754a983"
      }
     },
     "metadata": {},
     "output_type": "display_data"
    },
    {
     "name": "stdout",
     "output_type": "stream",
     "text": [
      "\n",
      "==================================================\n",
      "Classification Report:\n",
      "              precision    recall  f1-score   support\n",
      "\n",
      "    Non-Fire       1.00      1.00      1.00        24\n",
      "        Fire       1.00      1.00      1.00        23\n",
      "\n",
      "    accuracy                           1.00        47\n",
      "   macro avg       1.00      1.00      1.00        47\n",
      "weighted avg       1.00      1.00      1.00        47\n",
      "\n"
     ]
    },
    {
     "data": {
      "text/plain": [
       "<Figure size 800x600 with 2 Axes>"
      ],
      "image/png": "[encoded data removed]"
     },
     "metadata": {},
     "output_type": "display_data"
    },
    {
     "data": {
      "text/plain": [
       "<Figure size 800x600 with 1 Axes>"
      ],
      "image/png": "[encoded data removed]"
     },
     "metadata": {},
     "output_type": "display_data"
    },
    {
     "data": {
      "text/plain": [
       "<Figure size 800x600 with 1 Axes>"
      ],
      "image/png": "[encoded data removed]"
     },
     "metadata": {},
     "output_type": "display_data"
    },
    {
     "data": {
      "text/plain": [
       "<Figure size 1000x600 with 1 Axes>"
      ],
      "image/png": "[encoded data removed]"
     },
     "metadata": {},
     "output_type": "display_data"
    },
    {
     "data": {
      "text/plain": [
       "┏━━━━━━━━━━━━━━━━━━━━━━━━━━━┳━━━━━━━━━━━━━━━━━━━━━━━━━━━┓\n",
       "┃\u001B[1m \u001B[0m\u001B[1m       Test metric       \u001B[0m\u001B[1m \u001B[0m┃\u001B[1m \u001B[0m\u001B[1m      DataLoader 0       \u001B[0m\u001B[1m \u001B[0m┃\n",
       "┡━━━━━━━━━━━━━━━━━━━━━━━━━━━╇━━━━━━━━━━━━━━━━━━━━━━━━━━━┩\n",
       "│\u001B[36m \u001B[0m\u001B[36m        test_acc         \u001B[0m\u001B[36m \u001B[0m│\u001B[35m \u001B[0m\u001B[35m           1.0           \u001B[0m\u001B[35m \u001B[0m│\n",
       "│\u001B[36m \u001B[0m\u001B[36m         test_f1         \u001B[0m\u001B[36m \u001B[0m│\u001B[35m \u001B[0m\u001B[35m           1.0           \u001B[0m\u001B[35m \u001B[0m│\n",
       "│\u001B[36m \u001B[0m\u001B[36m        test_loss        \u001B[0m\u001B[36m \u001B[0m│\u001B[35m \u001B[0m\u001B[35m 0.00010896103776758537  \u001B[0m\u001B[35m \u001B[0m│\n",
       "│\u001B[36m \u001B[0m\u001B[36m     test_precision      \u001B[0m\u001B[36m \u001B[0m│\u001B[35m \u001B[0m\u001B[35m           1.0           \u001B[0m\u001B[35m \u001B[0m│\n",
       "│\u001B[36m \u001B[0m\u001B[36m       test_recall       \u001B[0m\u001B[36m \u001B[0m│\u001B[35m \u001B[0m\u001B[35m           1.0           \u001B[0m\u001B[35m \u001B[0m│\n",
       "└───────────────────────────┴───────────────────────────┘\n"
      ],
      "text/html": [
       "<pre style=\"white-space:pre;overflow-x:auto;line-height:normal;font-family:Menlo,'DejaVu Sans Mono',consolas,'Courier New',monospace\">┏━━━━━━━━━━━━━━━━━━━━━━━━━━━┳━━━━━━━━━━━━━━━━━━━━━━━━━━━┓\n",
       "┃<span style=\"font-weight: bold\">        Test metric        </span>┃<span style=\"font-weight: bold\">       DataLoader 0        </span>┃\n",
       "┡━━━━━━━━━━━━━━━━━━━━━━━━━━━╇━━━━━━━━━━━━━━━━━━━━━━━━━━━┩\n",
       "│<span style=\"color: #008080; text-decoration-color: #008080\">         test_acc          </span>│<span style=\"color: #800080; text-decoration-color: #800080\">            1.0            </span>│\n",
       "│<span style=\"color: #008080; text-decoration-color: #008080\">          test_f1          </span>│<span style=\"color: #800080; text-decoration-color: #800080\">            1.0            </span>│\n",
       "│<span style=\"color: #008080; text-decoration-color: #008080\">         test_loss         </span>│<span style=\"color: #800080; text-decoration-color: #800080\">  0.00010896103776758537   </span>│\n",
       "│<span style=\"color: #008080; text-decoration-color: #008080\">      test_precision       </span>│<span style=\"color: #800080; text-decoration-color: #800080\">            1.0            </span>│\n",
       "│<span style=\"color: #008080; text-decoration-color: #008080\">        test_recall        </span>│<span style=\"color: #800080; text-decoration-color: #800080\">            1.0            </span>│\n",
       "└───────────────────────────┴───────────────────────────┘\n",
       "</pre>\n"
      ]
     },
     "metadata": {},
     "output_type": "display_data"
    },
    {
     "name": "stdout",
     "output_type": "stream",
     "text": [
      "Fusion model weights saved\n",
      "Fire predictor initialized and ready for deployment\n"
     ]
    }
   ],
   "execution_count": 77
  },
  {
   "metadata": {
    "ExecuteTime": {
     "end_time": "2025-07-25T16:54:49.196870Z",
     "start_time": "2025-07-25T16:54:48.862630Z"
    }
   },
   "cell_type": "code",
   "source": [
    "# Example prediction using the trained fusion model\n",
    "print(\"\\nRunning example prediction...\")\n",
    "# Paths to test images\n",
    "vit_path = \"dataset/RGB/fire/00008.JPG\"      # RGB image path\n",
    "cnn_path = \"dataset/thermal/fire/00008.JPG\"  # Thermal image path\n",
    "\n",
    "# Make prediction\n",
    "prediction, probability = predictor.predict(vit_path, cnn_path)\n",
    "\n",
    "# Display results\n",
    "print(\"\\nPredicting FIRE images:\")\n",
    "print(f\"  RGB Image: {os.path.basename(vit_path)}\")\n",
    "print(f\"  Thermal Image: {os.path.basename(cnn_path)}\")\n",
    "print(f\"Prediction: {prediction} (Probability: {probability:.4f})\")\n",
    "print(f\"Interpretation: {'FIRE DETECTED' if prediction == 'Fire' else 'No fire detected'}\")\n",
    "\n",
    "# Add visual confirmation if images exist\n",
    "if os.path.exists(vit_path) and os.path.exists(cnn_path):\n",
    "    print(\"\\nImage verification:\")\n",
    "    print(f\"  RGB image exists: {'✓' if os.path.exists(vit_path) else '✗'}\")\n",
    "    print(f\"  Thermal image exists: {'✓' if os.path.exists(cnn_path) else '✗'}\")\n",
    "else:\n",
    "    print(\"\\nWarning: One or both test images not found\")"
   ],
   "id": "6eb96ed2c6dead83",
   "outputs": [
    {
     "name": "stdout",
     "output_type": "stream",
     "text": [
      "\n",
      "Running example prediction...\n",
      "\n",
      "Predicting FIRE images:\n",
      "  RGB Image: 00008.JPG\n",
      "  Thermal Image: 00008.JPG\n",
      "Prediction: Fire (Probability: 1.0000)\n",
      "Interpretation: FIRE DETECTED\n",
      "\n",
      "Image verification:\n",
      "  RGB image exists: ✓\n",
      "  Thermal image exists: ✓\n"
     ]
    }
   ],
   "execution_count": 78
  },
  {
   "metadata": {
    "ExecuteTime": {
     "end_time": "2025-07-25T16:32:24.137570Z",
     "start_time": "2025-07-25T16:32:23.821847Z"
    }
   },
   "cell_type": "code",
   "source": [
    "# Example prediction using the trained fusion model\n",
    "print(\"\\nRunning example prediction...\")\n",
    "# Paths to test images\n",
    "vit_path = \"dataset/RGB/no_fire/00052.JPG\"      # RGB image path\n",
    "cnn_path = \"dataset/thermal/no_fire/00052.JPG\"  # Thermal image path\n",
    "\n",
    "# Make prediction\n",
    "prediction, probability = predictor.predict(vit_path, cnn_path)\n",
    "\n",
    "# Display results\n",
    "print(\"\\nPredicting NON-FIRE images:\")\n",
    "print(f\"  RGB Image: {os.path.basename(vit_path)}\")\n",
    "print(f\"  Thermal Image: {os.path.basename(cnn_path)}\")\n",
    "print(f\"Prediction: {prediction} (Probability: {probability:.4f})\")\n",
    "print(f\"Interpretation: {'FIRE DETECTED' if prediction == 'Fire' else 'No fire detected'}\")\n",
    "\n",
    "# Add visual confirmation if images exist\n",
    "if os.path.exists(vit_path) and os.path.exists(cnn_path):\n",
    "    print(\"\\nImage verification:\")\n",
    "    print(f\"  RGB image exists: {'✓' if os.path.exists(vit_path) else '✗'}\")\n",
    "    print(f\"  Thermal image exists: {'✓' if os.path.exists(cnn_path) else '✗'}\")\n",
    "else:\n",
    "    print(\"\\nWarning: One or both test images not found\")"
   ],
   "id": "1e26f3f2f23859e8",
   "outputs": [
    {
     "name": "stdout",
     "output_type": "stream",
     "text": [
      "\n",
      "Running example prediction...\n",
      "\n",
      "Predicting NON-FIRE images:\n",
      "  RGB Image: 00052.JPG\n",
      "  Thermal Image: 00052.JPG\n",
      "Prediction: Not Fire (Probability: 0.0002)\n",
      "Interpretation: No fire detected\n",
      "\n",
      "Image verification:\n",
      "  RGB image exists: ✓\n",
      "  Thermal image exists: ✓\n"
     ]
    }
   ],
   "execution_count": 73
  }
 ],
 "metadata": {
  "kernelspec": {
   "display_name": "Python 3",
   "language": "python",
   "name": "python3"
  },
  "language_info": {
   "codemirror_mode": {
    "name": "ipython",
    "version": 2
   },
   "file_extension": ".py",
   "mimetype": "text/x-python",
   "name": "python",
   "nbconvert_exporter": "python",
   "pygments_lexer": "ipython2",
   "version": "2.7.6"
  }
 },
 "nbformat": 4,
 "nbformat_minor": 5
}
